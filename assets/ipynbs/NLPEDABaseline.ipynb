{
  "nbformat": 4,
  "nbformat_minor": 0,
  "metadata": {
    "kernelspec": {
      "display_name": "Python 3",
      "language": "python",
      "name": "python3"
    },
    "language_info": {
      "codemirror_mode": {
        "name": "ipython",
        "version": 3
      },
      "file_extension": ".py",
      "mimetype": "text/x-python",
      "name": "python",
      "nbconvert_exporter": "python",
      "pygments_lexer": "ipython3",
      "version": "3.6.12"
    },
    "colab": {
      "name": "NBLogReg.ipynb",
      "provenance": [],
      "collapsed_sections": []
    }
  },
  "cells": [
    {
      "cell_type": "markdown",
      "metadata": {
        "id": "82UFbJTPDXKY"
      },
      "source": [
        "# HackLive - Guided Community Hackathon III - NLP\r\n",
        "# Topic Modeling for Research Articles 2.0\r\n",
        "\r\n",
        "[Link to competition here!](https://datahack.analyticsvidhya.com/contest/hacklive-3-guided-hackathon-text-classification/)\r\n",
        "\r\n",
        "Go there and register to be able to download the dataset and submit your predictions. Click the button below to open this notebook in Google Colab!\r\n",
        "\r\n",
        "<a href=\"https://colab.research.google.com/github/jpraguer/jpraguer.github.io/master/_posts/NLPEDABaseline.ipynb\" target=\"_parent\"><img src=\"https://colab.research.google.com/assets/colab-badge.svg\" alt=\"Open In Colab\"/></a>\r\n",
        "\r\n",
        "Researchers have access to large online archives of scientific articles. As a consequence, finding relevant articles has become more and more difficult. Tagging or topic modelling provides a way to give clear token of identification to research articles which facilitates recommendation and search process. \r\n",
        "\r\n",
        "Earlier on the Independence Day we conducted a Hackathon to predict the topics for each article included in the test set. Continuing with the same problem, In this Live Hackathon we will take one more step ahead and predict the tags associated with the articles.\r\n",
        "\r\n",
        "Given the abstracts for a set of research articles, predict the tags for each article included in the test set. \r\n",
        "Note that a research article can possibly have multiple tags. The research article abstracts are sourced from the following 4 topics: \r\n",
        "\r\n",
        "1. Computer Science\r\n",
        "\r\n",
        "2. Mathematics\r\n",
        "\r\n",
        "3. Physics\r\n",
        "\r\n",
        "4. Statistics\r\n",
        "\r\n",
        "List of 25 possible tags are as follows:\r\n",
        "\r\n",
        "[Tags, Analysis of PDEs, Applications, Artificial Intelligence,Astrophysics of Galaxies, Computation and Language, Computer Vision and Pattern Recognition, Cosmology and Nongalactic Astrophysics, Data Structures and Algorithms, Differential Geometry, Earth and Planetary Astrophysics, Fluid Dynamics,Information Theory, Instrumentation and Methods for Astrophysics, Machine Learning, Materials Science, Methodology, Number Theory, Optimization and Control, Representation Theory, Robotics, Social and Information Networks, Statistics Theory, Strongly Correlated Electrons, Superconductivity, Systems and Control]"
      ]
    },
    {
      "cell_type": "markdown",
      "metadata": {
        "id": "JnxclKFG2Kw_"
      },
      "source": [
        "### Multi Class vs Multi Label Classification\n",
        "* **Multi Class** - There are multiple categories but each instance is assigned only one, therefore such problems are known as multi-class classification problem.\n",
        "* **Multi Label** - There are multiple categories and each instance can be assigned with multiple categories, so these types of problems are known as multi-label classification problem, where we have a set of target labels.\n",
        "\n",
        "This problem is a *multi label* classification problem, as each study can have multiple tags. This makes this competition possibly easier, as we can train separate classifier models for each target column."
      ]
    },
    {
      "cell_type": "code",
      "metadata": {
        "id": "M4vWyQ3m2KxF"
      },
      "source": [
        "# import libs\n",
        "import numpy as np\n",
        "import pandas as pd\n",
        "import matplotlib.pyplot as plt\n",
        "import seaborn as sns\n",
        "\n",
        "sns.set_style('whitegrid')\n",
        "\n",
        "from sklearn.feature_extraction.text import TfidfVectorizer\n",
        "from sklearn.linear_model import LogisticRegression\n",
        "from sklearn.model_selection import train_test_split, cross_val_score\n",
        "from scipy.sparse import hstack, csr_matrix\n",
        "from sklearn.preprocessing import StandardScaler\n",
        "from sklearn.metrics import accuracy_score, f1_score"
      ],
      "execution_count": 1,
      "outputs": []
    },
    {
      "cell_type": "code",
      "metadata": {
        "id": "MOwkeKcj2KxH"
      },
      "source": [
        "# load data and set seed\n",
        "BASE = 'https://drive.google.com/uc?export=download&id='\n",
        "SEED = 2021\n",
        "\n",
        "train = pd.read_csv(f'{BASE}1ung4VaqpYSJNnTuGTyGChLT8C0eNYY5N')\n",
        "test = pd.read_csv(f'{BASE}1HwI9Y21-iaCzcaYZI_2J7hirFceZ-phz')\n",
        "ss = pd.read_csv(f'{BASE}1vas9LzJlJiXQG-Z_252gIgKtzJq9I3iW')"
      ],
      "execution_count": 2,
      "outputs": []
    },
    {
      "cell_type": "code",
      "metadata": {
        "id": "S9U71YD02KxI"
      },
      "source": [
        "# prepare a few key variables to classify columns into target and features\n",
        "# strangely we have more targets than features in this competition\n",
        "ID_COL = 'id'\n",
        "\n",
        "TARGET_COLS = ['Analysis of PDEs', 'Applications',\n",
        "               'Artificial Intelligence', 'Astrophysics of Galaxies',\n",
        "               'Computation and Language', 'Computer Vision and Pattern Recognition',\n",
        "               'Cosmology and Nongalactic Astrophysics',\n",
        "               'Data Structures and Algorithms', 'Differential Geometry',\n",
        "               'Earth and Planetary Astrophysics', 'Fluid Dynamics',\n",
        "               'Information Theory', 'Instrumentation and Methods for Astrophysics',\n",
        "               'Machine Learning', 'Materials Science', 'Methodology', 'Number Theory',\n",
        "               'Optimization and Control', 'Representation Theory', 'Robotics',\n",
        "               'Social and Information Networks', 'Statistics Theory',\n",
        "               'Strongly Correlated Electrons', 'Superconductivity',\n",
        "               'Systems and Control'] #class_names\n",
        "\n",
        "TOPIC_COLS = ['Computer Science', 'Mathematics', 'Physics', 'Statistics']"
      ],
      "execution_count": 3,
      "outputs": []
    },
    {
      "cell_type": "markdown",
      "metadata": {
        "id": "aFqW_Ws8GShM"
      },
      "source": [
        "## EDA starts\r\n",
        "First we look at the first few rows of the train dataset."
      ]
    },
    {
      "cell_type": "code",
      "metadata": {
        "id": "XQdRCk9W2KxH",
        "colab": {
          "base_uri": "https://localhost:8080/",
          "height": 383
        },
        "outputId": "73578b70-372d-4e0a-beff-a1269c81e629"
      },
      "source": [
        "train.head(3)"
      ],
      "execution_count": 4,
      "outputs": [
        {
          "output_type": "execute_result",
          "data": {
            "text/html": [
              "<div>\n",
              "<style scoped>\n",
              "    .dataframe tbody tr th:only-of-type {\n",
              "        vertical-align: middle;\n",
              "    }\n",
              "\n",
              "    .dataframe tbody tr th {\n",
              "        vertical-align: top;\n",
              "    }\n",
              "\n",
              "    .dataframe thead th {\n",
              "        text-align: right;\n",
              "    }\n",
              "</style>\n",
              "<table border=\"1\" class=\"dataframe\">\n",
              "  <thead>\n",
              "    <tr style=\"text-align: right;\">\n",
              "      <th></th>\n",
              "      <th>id</th>\n",
              "      <th>ABSTRACT</th>\n",
              "      <th>Computer Science</th>\n",
              "      <th>Mathematics</th>\n",
              "      <th>Physics</th>\n",
              "      <th>Statistics</th>\n",
              "      <th>Analysis of PDEs</th>\n",
              "      <th>Applications</th>\n",
              "      <th>Artificial Intelligence</th>\n",
              "      <th>Astrophysics of Galaxies</th>\n",
              "      <th>Computation and Language</th>\n",
              "      <th>Computer Vision and Pattern Recognition</th>\n",
              "      <th>Cosmology and Nongalactic Astrophysics</th>\n",
              "      <th>Data Structures and Algorithms</th>\n",
              "      <th>Differential Geometry</th>\n",
              "      <th>Earth and Planetary Astrophysics</th>\n",
              "      <th>Fluid Dynamics</th>\n",
              "      <th>Information Theory</th>\n",
              "      <th>Instrumentation and Methods for Astrophysics</th>\n",
              "      <th>Machine Learning</th>\n",
              "      <th>Materials Science</th>\n",
              "      <th>Methodology</th>\n",
              "      <th>Number Theory</th>\n",
              "      <th>Optimization and Control</th>\n",
              "      <th>Representation Theory</th>\n",
              "      <th>Robotics</th>\n",
              "      <th>Social and Information Networks</th>\n",
              "      <th>Statistics Theory</th>\n",
              "      <th>Strongly Correlated Electrons</th>\n",
              "      <th>Superconductivity</th>\n",
              "      <th>Systems and Control</th>\n",
              "    </tr>\n",
              "  </thead>\n",
              "  <tbody>\n",
              "    <tr>\n",
              "      <th>0</th>\n",
              "      <td>1824</td>\n",
              "      <td>a ever-growing datasets inside observational a...</td>\n",
              "      <td>0</td>\n",
              "      <td>0</td>\n",
              "      <td>1</td>\n",
              "      <td>0</td>\n",
              "      <td>0</td>\n",
              "      <td>0</td>\n",
              "      <td>0</td>\n",
              "      <td>0</td>\n",
              "      <td>0</td>\n",
              "      <td>0</td>\n",
              "      <td>1</td>\n",
              "      <td>0</td>\n",
              "      <td>0</td>\n",
              "      <td>0</td>\n",
              "      <td>0</td>\n",
              "      <td>0</td>\n",
              "      <td>1</td>\n",
              "      <td>0</td>\n",
              "      <td>0</td>\n",
              "      <td>0</td>\n",
              "      <td>0</td>\n",
              "      <td>0</td>\n",
              "      <td>0</td>\n",
              "      <td>0</td>\n",
              "      <td>0</td>\n",
              "      <td>0</td>\n",
              "      <td>0</td>\n",
              "      <td>0</td>\n",
              "      <td>0</td>\n",
              "    </tr>\n",
              "    <tr>\n",
              "      <th>1</th>\n",
              "      <td>3094</td>\n",
              "      <td>we propose the framework considering optimal $...</td>\n",
              "      <td>1</td>\n",
              "      <td>0</td>\n",
              "      <td>0</td>\n",
              "      <td>0</td>\n",
              "      <td>0</td>\n",
              "      <td>0</td>\n",
              "      <td>0</td>\n",
              "      <td>0</td>\n",
              "      <td>0</td>\n",
              "      <td>0</td>\n",
              "      <td>0</td>\n",
              "      <td>1</td>\n",
              "      <td>0</td>\n",
              "      <td>0</td>\n",
              "      <td>0</td>\n",
              "      <td>0</td>\n",
              "      <td>0</td>\n",
              "      <td>0</td>\n",
              "      <td>0</td>\n",
              "      <td>0</td>\n",
              "      <td>0</td>\n",
              "      <td>0</td>\n",
              "      <td>0</td>\n",
              "      <td>0</td>\n",
              "      <td>0</td>\n",
              "      <td>0</td>\n",
              "      <td>0</td>\n",
              "      <td>0</td>\n",
              "      <td>0</td>\n",
              "    </tr>\n",
              "    <tr>\n",
              "      <th>2</th>\n",
              "      <td>8463</td>\n",
              "      <td>nanostructures with open shell transition meta...</td>\n",
              "      <td>0</td>\n",
              "      <td>0</td>\n",
              "      <td>1</td>\n",
              "      <td>0</td>\n",
              "      <td>0</td>\n",
              "      <td>0</td>\n",
              "      <td>0</td>\n",
              "      <td>0</td>\n",
              "      <td>0</td>\n",
              "      <td>0</td>\n",
              "      <td>0</td>\n",
              "      <td>0</td>\n",
              "      <td>0</td>\n",
              "      <td>0</td>\n",
              "      <td>0</td>\n",
              "      <td>0</td>\n",
              "      <td>0</td>\n",
              "      <td>0</td>\n",
              "      <td>0</td>\n",
              "      <td>0</td>\n",
              "      <td>0</td>\n",
              "      <td>0</td>\n",
              "      <td>0</td>\n",
              "      <td>0</td>\n",
              "      <td>0</td>\n",
              "      <td>0</td>\n",
              "      <td>1</td>\n",
              "      <td>0</td>\n",
              "      <td>0</td>\n",
              "    </tr>\n",
              "  </tbody>\n",
              "</table>\n",
              "</div>"
            ],
            "text/plain": [
              "     id  ... Systems and Control\n",
              "0  1824  ...                   0\n",
              "1  3094  ...                   0\n",
              "2  8463  ...                   0\n",
              "\n",
              "[3 rows x 31 columns]"
            ]
          },
          "metadata": {
            "tags": []
          },
          "execution_count": 4
        }
      ]
    },
    {
      "cell_type": "code",
      "metadata": {
        "colab": {
          "base_uri": "https://localhost:8080/"
        },
        "id": "2rh4jbrAF4K1",
        "outputId": "3ce4a695-d33c-436d-90f6-6cd065581d57"
      },
      "source": [
        "# look at train and test sizes\r\n",
        "train.shape, test.shape"
      ],
      "execution_count": 5,
      "outputs": [
        {
          "output_type": "execute_result",
          "data": {
            "text/plain": [
              "((14004, 31), (6002, 6))"
            ]
          },
          "metadata": {
            "tags": []
          },
          "execution_count": 5
        }
      ]
    },
    {
      "cell_type": "code",
      "metadata": {
        "colab": {
          "base_uri": "https://localhost:8080/"
        },
        "id": "M8qd-V0VGNmp",
        "outputId": "89f9019f-2fa9-41f7-90a8-381036d1de5b"
      },
      "source": [
        "# check for nulls and parsing errors\r\n",
        "train.info()"
      ],
      "execution_count": 6,
      "outputs": [
        {
          "output_type": "stream",
          "text": [
            "<class 'pandas.core.frame.DataFrame'>\n",
            "RangeIndex: 14004 entries, 0 to 14003\n",
            "Data columns (total 31 columns):\n",
            " #   Column                                        Non-Null Count  Dtype \n",
            "---  ------                                        --------------  ----- \n",
            " 0   id                                            14004 non-null  int64 \n",
            " 1   ABSTRACT                                      14004 non-null  object\n",
            " 2   Computer Science                              14004 non-null  int64 \n",
            " 3   Mathematics                                   14004 non-null  int64 \n",
            " 4   Physics                                       14004 non-null  int64 \n",
            " 5   Statistics                                    14004 non-null  int64 \n",
            " 6   Analysis of PDEs                              14004 non-null  int64 \n",
            " 7   Applications                                  14004 non-null  int64 \n",
            " 8   Artificial Intelligence                       14004 non-null  int64 \n",
            " 9   Astrophysics of Galaxies                      14004 non-null  int64 \n",
            " 10  Computation and Language                      14004 non-null  int64 \n",
            " 11  Computer Vision and Pattern Recognition       14004 non-null  int64 \n",
            " 12  Cosmology and Nongalactic Astrophysics        14004 non-null  int64 \n",
            " 13  Data Structures and Algorithms                14004 non-null  int64 \n",
            " 14  Differential Geometry                         14004 non-null  int64 \n",
            " 15  Earth and Planetary Astrophysics              14004 non-null  int64 \n",
            " 16  Fluid Dynamics                                14004 non-null  int64 \n",
            " 17  Information Theory                            14004 non-null  int64 \n",
            " 18  Instrumentation and Methods for Astrophysics  14004 non-null  int64 \n",
            " 19  Machine Learning                              14004 non-null  int64 \n",
            " 20  Materials Science                             14004 non-null  int64 \n",
            " 21  Methodology                                   14004 non-null  int64 \n",
            " 22  Number Theory                                 14004 non-null  int64 \n",
            " 23  Optimization and Control                      14004 non-null  int64 \n",
            " 24  Representation Theory                         14004 non-null  int64 \n",
            " 25  Robotics                                      14004 non-null  int64 \n",
            " 26  Social and Information Networks               14004 non-null  int64 \n",
            " 27  Statistics Theory                             14004 non-null  int64 \n",
            " 28  Strongly Correlated Electrons                 14004 non-null  int64 \n",
            " 29  Superconductivity                             14004 non-null  int64 \n",
            " 30  Systems and Control                           14004 non-null  int64 \n",
            "dtypes: int64(30), object(1)\n",
            "memory usage: 3.3+ MB\n"
          ],
          "name": "stdout"
        }
      ]
    },
    {
      "cell_type": "code",
      "metadata": {
        "colab": {
          "base_uri": "https://localhost:8080/"
        },
        "id": "FBseG7g_GNo5",
        "outputId": "f30de707-e4a8-4dff-c3dd-9752f0b6c35c"
      },
      "source": [
        "test.info()"
      ],
      "execution_count": 7,
      "outputs": [
        {
          "output_type": "stream",
          "text": [
            "<class 'pandas.core.frame.DataFrame'>\n",
            "RangeIndex: 6002 entries, 0 to 6001\n",
            "Data columns (total 6 columns):\n",
            " #   Column            Non-Null Count  Dtype \n",
            "---  ------            --------------  ----- \n",
            " 0   id                6002 non-null   int64 \n",
            " 1   ABSTRACT          6002 non-null   object\n",
            " 2   Computer Science  6002 non-null   int64 \n",
            " 3   Mathematics       6002 non-null   int64 \n",
            " 4   Physics           6002 non-null   int64 \n",
            " 5   Statistics        6002 non-null   int64 \n",
            "dtypes: int64(5), object(1)\n",
            "memory usage: 281.5+ KB\n"
          ],
          "name": "stdout"
        }
      ]
    },
    {
      "cell_type": "markdown",
      "metadata": {
        "id": "QBxlfJM3HPnx"
      },
      "source": [
        "No nulls, parsing algorithm did well, no abstracts seem to have been truncated."
      ]
    },
    {
      "cell_type": "code",
      "metadata": {
        "colab": {
          "base_uri": "https://localhost:8080/",
          "height": 551
        },
        "id": "nb0qvzP5GNrD",
        "outputId": "aa3d1c0d-efcd-4d5a-d000-b167d708688a"
      },
      "source": [
        "# count of papers for each tag and topic in TRAIN\r\n",
        "plt.figure(figsize=(10, 8))\r\n",
        "sns.barplot(train[TARGET_COLS].sum().values, TARGET_COLS)\r\n",
        "plt.xlabel('Number of papers')\r\n",
        "plt.ylabel('Tags');"
      ],
      "execution_count": 8,
      "outputs": [
        {
          "output_type": "stream",
          "text": [
            "/usr/local/lib/python3.6/dist-packages/seaborn/_decorators.py:43: FutureWarning: Pass the following variables as keyword args: x, y. From version 0.12, the only valid positional argument will be `data`, and passing other arguments without an explicit keyword will result in an error or misinterpretation.\n",
            "  FutureWarning\n"
          ],
          "name": "stderr"
        },
        {
          "output_type": "display_data",
          "data": {
            "image/png": "[encoded data removed]",
            "text/plain": [
              "<Figure size 720x576 with 1 Axes>"
            ]
          },
          "metadata": {
            "tags": [],
            "needs_background": "light"
          }
        }
      ]
    },
    {
      "cell_type": "code",
      "metadata": {
        "colab": {
          "base_uri": "https://localhost:8080/",
          "height": 551
        },
        "id": "DairTROKLX7f",
        "outputId": "3a9d68fc-d0da-4261-c315-4280801cef85"
      },
      "source": [
        "# count of papers for each tag and topic in TRAIN\r\n",
        "plt.figure(figsize=(10, 8))\r\n",
        "sns.barplot(train[TOPIC_COLS].sum().values, TOPIC_COLS)\r\n",
        "plt.xlabel('Number of papers')\r\n",
        "plt.ylabel('Topics');"
      ],
      "execution_count": 9,
      "outputs": [
        {
          "output_type": "stream",
          "text": [
            "/usr/local/lib/python3.6/dist-packages/seaborn/_decorators.py:43: FutureWarning: Pass the following variables as keyword args: x, y. From version 0.12, the only valid positional argument will be `data`, and passing other arguments without an explicit keyword will result in an error or misinterpretation.\n",
            "  FutureWarning\n"
          ],
          "name": "stderr"
        },
        {
          "output_type": "display_data",
          "data": {
            "image/png": "[encoded data removed]",
            "text/plain": [
              "<Figure size 720x576 with 1 Axes>"
            ]
          },
          "metadata": {
            "tags": [],
            "needs_background": "light"
          }
        }
      ]
    },
    {
      "cell_type": "code",
      "metadata": {
        "colab": {
          "base_uri": "https://localhost:8080/",
          "height": 551
        },
        "id": "9DM_CsmzGNtz",
        "outputId": "ad3a9ea7-dc87-4604-f23d-ff836def3b3a"
      },
      "source": [
        "# count of papers in each topic in TEST \r\n",
        "# seems to be distributed similarly to TRAIN\r\n",
        "plt.figure(figsize=(10, 8))\r\n",
        "sns.barplot(test[TOPIC_COLS].sum().values, TOPIC_COLS)\r\n",
        "plt.xlabel('Number of papers')\r\n",
        "plt.ylabel('Topics');"
      ],
      "execution_count": 10,
      "outputs": [
        {
          "output_type": "stream",
          "text": [
            "/usr/local/lib/python3.6/dist-packages/seaborn/_decorators.py:43: FutureWarning: Pass the following variables as keyword args: x, y. From version 0.12, the only valid positional argument will be `data`, and passing other arguments without an explicit keyword will result in an error or misinterpretation.\n",
            "  FutureWarning\n"
          ],
          "name": "stderr"
        },
        {
          "output_type": "display_data",
          "data": {
            "image/png": "[encoded data removed]",
            "text/plain": [
              "<Figure size 720x576 with 1 Axes>"
            ]
          },
          "metadata": {
            "tags": [],
            "needs_background": "light"
          }
        }
      ]
    },
    {
      "cell_type": "code",
      "metadata": {
        "colab": {
          "base_uri": "https://localhost:8080/",
          "height": 551
        },
        "id": "ndSgjZHaGNwX",
        "outputId": "57f2f866-6d23-4281-da54-907ce8b4a28f"
      },
      "source": [
        "# count of papers having multiple labels\r\n",
        "multilabel_counts = train[TARGET_COLS].sum(axis=1).value_counts()\r\n",
        "\r\n",
        "plt.figure(figsize=(10, 8))\r\n",
        "sns.barplot(multilabel_counts.index, multilabel_counts.values)\r\n",
        "plt.ylabel('Number of papers')\r\n",
        "plt.xlabel('Number of labels')\r\n",
        "plt.show()"
      ],
      "execution_count": 11,
      "outputs": [
        {
          "output_type": "stream",
          "text": [
            "/usr/local/lib/python3.6/dist-packages/seaborn/_decorators.py:43: FutureWarning: Pass the following variables as keyword args: x, y. From version 0.12, the only valid positional argument will be `data`, and passing other arguments without an explicit keyword will result in an error or misinterpretation.\n",
            "  FutureWarning\n"
          ],
          "name": "stderr"
        },
        {
          "output_type": "display_data",
          "data": {
            "image/png": "[encoded data removed]",
            "text/plain": [
              "<Figure size 720x576 with 1 Axes>"
            ]
          },
          "metadata": {
            "tags": [],
            "needs_background": "light"
          }
        }
      ]
    },
    {
      "cell_type": "code",
      "metadata": {
        "colab": {
          "base_uri": "https://localhost:8080/",
          "height": 265
        },
        "id": "XMoiaMCGF4NR",
        "outputId": "82d87709-7238-465d-f831-5abe53d5aa5d"
      },
      "source": [
        "# word lengths histogram => looks like ~320 words is maximum length\r\n",
        "train['ABSTRACT'].str.split().apply(len).hist();"
      ],
      "execution_count": 12,
      "outputs": [
        {
          "output_type": "display_data",
          "data": {
            "image/png": "[encoded data removed]",
            "text/plain": [
              "<Figure size 432x288 with 1 Axes>"
            ]
          },
          "metadata": {
            "tags": [],
            "needs_background": "light"
          }
        }
      ]
    },
    {
      "cell_type": "code",
      "metadata": {
        "colab": {
          "base_uri": "https://localhost:8080/",
          "height": 265
        },
        "id": "p6v5GVuoP-F4",
        "outputId": "abec627b-4fd6-4a01-b21d-3fa0dea69bc5"
      },
      "source": [
        "# char lengths histogram => looks like ~2200 chars is maximum length\r\n",
        "train['ABSTRACT'].str.len().hist();"
      ],
      "execution_count": 13,
      "outputs": [
        {
          "output_type": "display_data",
          "data": {
            "image/png": "[encoded data removed]",
            "text/plain": [
              "<Figure size 432x288 with 1 Axes>"
            ]
          },
          "metadata": {
            "tags": [],
            "needs_background": "light"
          }
        }
      ]
    },
    {
      "cell_type": "markdown",
      "metadata": {
        "id": "e3Q9Xq9AGQwK"
      },
      "source": [
        "#### Observations\r\n",
        "Most papers have ML, followed by AI tags (perhaps not surprising in an ML competition). Most common topics are CompSci and Physics or Statistics.\r\n",
        "Majority of papers have only one tag, but there are a few that have as many as four. Abstracts seem to be at most 320 words and 2200 chars in length (this will come in handy later). "
      ]
    },
    {
      "cell_type": "markdown",
      "metadata": {
        "id": "NnoHfxq8QR0A"
      },
      "source": [
        "## Text processing and Modeling\r\n",
        "Now we will perform train test split, clean the text and train a Logistic Regression model based on TF-IDF features transformed using a Naive Bayes algorithm."
      ]
    },
    {
      "cell_type": "code",
      "metadata": {
        "id": "Cd_MzF022KxJ"
      },
      "source": [
        "# train test split, shuffle and stratify based on topics\n",
        "trn, val = train_test_split(train, test_size=0.2, random_state=SEED, shuffle=True, stratify=train[TOPIC_COLS])"
      ],
      "execution_count": 14,
      "outputs": []
    },
    {
      "cell_type": "code",
      "metadata": {
        "id": "bKsWWVya2KxK"
      },
      "source": [
        "# clean text function declaration\n",
        "def clean_text(text):\n",
        "    text = text.lower()\n",
        "    text = re.sub(r\"what's\", \"what is \", text)\n",
        "    text = re.sub(r\"\\'s\", \" \", text)\n",
        "    text = re.sub(r\"\\'ve\", \" have \", text)\n",
        "    text = re.sub(r\"can't\", \"cannot \", text)\n",
        "    text = re.sub(r\"n't\", \" not \", text)\n",
        "    text = re.sub(r\"i'm\", \"i am \", text)\n",
        "    text = re.sub(r\"\\'re\", \" are \", text)\n",
        "    text = re.sub(r\"\\'d\", \" would \", text)\n",
        "    text = re.sub(r\"\\'ll\", \" will \", text)\n",
        "    text = re.sub(r\"\\'scuse\", \" excuse \", text)\n",
        "    text = re.sub('\\W', ' ', text)\n",
        "    text = re.sub('\\s+', ' ', text)\n",
        "    text = re.sub('\\n', ' ', text)\n",
        "    text = re.sub('\\t', ' ', text)\n",
        "    text = text.strip(' ')\n",
        "    return text"
      ],
      "execution_count": 16,
      "outputs": []
    },
    {
      "cell_type": "code",
      "metadata": {
        "id": "YJPkCO0g2KxK",
        "colab": {
          "base_uri": "https://localhost:8080/"
        },
        "outputId": "f8c6f08e-7527-415c-89b8-86a73ec67f9c"
      },
      "source": [
        "%%time\n",
        "# clean the abstract in train, val and test sets\n",
        "trn_text = trn['ABSTRACT'].apply(clean_text)\n",
        "val_text = val['ABSTRACT'].apply(clean_text)\n",
        "test_text = test['ABSTRACT'].apply(clean_text)\n",
        "all_text = pd.concat([trn_text, val_text, test_text])"
      ],
      "execution_count": 17,
      "outputs": [
        {
          "output_type": "stream",
          "text": [
            "CPU times: user 2.37 s, sys: 4.86 ms, total: 2.37 s\n",
            "Wall time: 2.38 s\n"
          ],
          "name": "stdout"
        }
      ]
    },
    {
      "cell_type": "code",
      "metadata": {
        "id": "UYN72pS42KxK"
      },
      "source": [
        "# create a custom string tokenizer with extra punctuation\n",
        "import re, string\n",
        "re_tok = re.compile(f'([{string.punctuation}“”¨«»®´·º½¾¿¡§£₤‘’])')\n",
        "def tokenize(s): return re_tok.sub(r' \\1 ', s).split()"
      ],
      "execution_count": 15,
      "outputs": []
    },
    {
      "cell_type": "code",
      "metadata": {
        "id": "3ZN1lkNB2KxL",
        "colab": {
          "base_uri": "https://localhost:8080/"
        },
        "outputId": "8069d0d6-ff5a-4d8c-8575-b11a8c5b77a5"
      },
      "source": [
        "%%time\n",
        "# create and use a TF-IDF vectorizer on word level using our tokenizer defined above\n",
        "# docs: https://scikit-learn.org/stable/modules/generated/sklearn.feature_extraction.text.TfidfVectorizer.html\n",
        "word_vectorizer = TfidfVectorizer(\n",
        "    sublinear_tf=True,        # optional\n",
        "    strip_accents='unicode',  # further character normalisation\n",
        "    analyzer='word',          # use word n-grams\n",
        "    tokenizer=tokenize,       # use custom tokenizer\n",
        "    stop_words='english',     # remove english stopwords\n",
        "    ngram_range=(1,2),        # use unigrams and bigrams\n",
        "    max_features=20000)       # only top 20k unique n-grams for speed\n",
        "print(\"fitting...\")\n",
        "word_vectorizer.fit(all_text)\n",
        "print(\"train...\")\n",
        "train_word_features = word_vectorizer.transform(trn_text)\n",
        "print(\"val...\")\n",
        "val_word_features = word_vectorizer.transform(val_text)\n",
        "print(\"test...\")\n",
        "test_word_features = word_vectorizer.transform(test_text)"
      ],
      "execution_count": 18,
      "outputs": [
        {
          "output_type": "stream",
          "text": [
            "fitting...\n"
          ],
          "name": "stdout"
        },
        {
          "output_type": "stream",
          "text": [
            "/usr/local/lib/python3.6/dist-packages/sklearn/feature_extraction/text.py:507: UserWarning: The parameter 'token_pattern' will not be used since 'tokenizer' is not None'\n",
            "  warnings.warn(\"The parameter 'token_pattern' will not be used\"\n"
          ],
          "name": "stderr"
        },
        {
          "output_type": "stream",
          "text": [
            "train...\n",
            "val...\n",
            "test...\n",
            "CPU times: user 19.3 s, sys: 941 ms, total: 20.3 s\n",
            "Wall time: 20.9 s\n"
          ],
          "name": "stdout"
        }
      ]
    },
    {
      "cell_type": "code",
      "metadata": {
        "id": "8o4Kooag2KxM",
        "colab": {
          "base_uri": "https://localhost:8080/"
        },
        "outputId": "9279a832-62fa-4973-9293-ea1d4157c03d"
      },
      "source": [
        "%%time\n",
        "# create and use a TF-IDF vectorizer on char level\n",
        "# docs linked above\n",
        "char_vectorizer = TfidfVectorizer(\n",
        "    sublinear_tf=True,        # optional\n",
        "    strip_accents='unicode',  # further character normalisation\n",
        "    analyzer='char',          # use char n-grams\n",
        "    ngram_range=(2,6),        # use bigrams up to hexagrams\n",
        "    max_features=50000)       # only top 50k unique n-grams (still quite slow)\n",
        "print(\"fitting...\")\n",
        "char_vectorizer.fit(all_text)\n",
        "print(\"train...\")\n",
        "train_char_features = char_vectorizer.transform(trn_text)\n",
        "print(\"val...\")\n",
        "val_char_features = char_vectorizer.transform(val_text)\n",
        "print(\"test...\")\n",
        "test_char_features = char_vectorizer.transform(test_text)"
      ],
      "execution_count": 19,
      "outputs": [
        {
          "output_type": "stream",
          "text": [
            "fitting...\n",
            "train...\n",
            "val...\n",
            "test...\n",
            "CPU times: user 3min 2s, sys: 3.1 s, total: 3min 5s\n",
            "Wall time: 3min 5s\n"
          ],
          "name": "stdout"
        }
      ]
    },
    {
      "cell_type": "code",
      "metadata": {
        "id": "SN_6TnkN2KxM",
        "colab": {
          "base_uri": "https://localhost:8080/"
        },
        "outputId": "2dc6ddf4-8a9a-4191-d999-f786f2c7e52d"
      },
      "source": [
        "%%time\n",
        "# stack topics, char and word features horizontally to get a numpy matrix\n",
        "x = hstack([trn[TOPIC_COLS], train_char_features, train_word_features], format='csr')\n",
        "val_x = hstack([val[TOPIC_COLS], val_char_features, val_word_features], format='csr')\n",
        "test_x = hstack([test[TOPIC_COLS], test_char_features, test_word_features], format='csr')"
      ],
      "execution_count": 20,
      "outputs": [
        {
          "output_type": "stream",
          "text": [
            "CPU times: user 5.03 s, sys: 150 ms, total: 5.18 s\n",
            "Wall time: 5.17 s\n"
          ],
          "name": "stdout"
        }
      ]
    },
    {
      "cell_type": "code",
      "metadata": {
        "id": "bx4igaQ72KxN"
      },
      "source": [
        "# basic naive bayes feature equation\n",
        "# credit: Jeremy Howard (kaggle and fast.ai legend)\n",
        "# https://www.kaggle.com/jhoward/nb-svm-strong-linear-baseline\n",
        "def pr(y_i, y):\n",
        "    p = x[y==y_i].sum(0)\n",
        "    return (p+1) / ((y==y_i).sum()+1)"
      ],
      "execution_count": 21,
      "outputs": []
    },
    {
      "cell_type": "code",
      "metadata": {
        "id": "3I-iaTHd2KxN"
      },
      "source": [
        "# fit a model for one dependent at a time\n",
        "def get_mdl(y):\n",
        "    y = y.values\n",
        "    r = np.log(pr(1,y) / pr(0,y))\n",
        "    m = LogisticRegression(C=4,                # less regularization, tunable hyperparam\n",
        "                           dual=True,          # imperative for one vs many classification\n",
        "                           solver='liblinear') # good for one vs many classification\n",
        "    x_nb = x.multiply(r)\n",
        "    return m.fit(x_nb, y), r"
      ],
      "execution_count": 22,
      "outputs": []
    },
    {
      "cell_type": "code",
      "metadata": {
        "id": "lBwFRfyS2KxN",
        "colab": {
          "base_uri": "https://localhost:8080/"
        },
        "outputId": "c9ac614f-8d61-4b21-8b80-6eab8334d33f"
      },
      "source": [
        "%%time\n",
        "# create empty arrays for validation and predictions, then fit our algo\n",
        "val_preds = np.zeros((len(val), len(TARGET_COLS)))\n",
        "preds = np.zeros((len(test), len(TARGET_COLS)))\n",
        "\n",
        "for i, j in enumerate(TARGET_COLS):\n",
        "    print('fitting:', j)\n",
        "    m,r = get_mdl(trn[j])\n",
        "    val_preds[:,i] = m.predict_proba(val_x.multiply(r))[:,1]\n",
        "    preds[:,i] = m.predict_proba(test_x.multiply(r))[:,1]"
      ],
      "execution_count": 23,
      "outputs": [
        {
          "output_type": "stream",
          "text": [
            "fitting: Analysis of PDEs\n",
            "fitting: Applications\n",
            "fitting: Artificial Intelligence\n"
          ],
          "name": "stdout"
        },
        {
          "output_type": "stream",
          "text": [
            "/usr/local/lib/python3.6/dist-packages/sklearn/svm/_base.py:947: ConvergenceWarning: Liblinear failed to converge, increase the number of iterations.\n",
            "  \"the number of iterations.\", ConvergenceWarning)\n"
          ],
          "name": "stderr"
        },
        {
          "output_type": "stream",
          "text": [
            "fitting: Astrophysics of Galaxies\n",
            "fitting: Computation and Language\n",
            "fitting: Computer Vision and Pattern Recognition\n",
            "fitting: Cosmology and Nongalactic Astrophysics\n",
            "fitting: Data Structures and Algorithms\n",
            "fitting: Differential Geometry\n",
            "fitting: Earth and Planetary Astrophysics\n",
            "fitting: Fluid Dynamics\n",
            "fitting: Information Theory\n",
            "fitting: Instrumentation and Methods for Astrophysics\n",
            "fitting: Machine Learning\n"
          ],
          "name": "stdout"
        },
        {
          "output_type": "stream",
          "text": [
            "/usr/local/lib/python3.6/dist-packages/sklearn/svm/_base.py:947: ConvergenceWarning: Liblinear failed to converge, increase the number of iterations.\n",
            "  \"the number of iterations.\", ConvergenceWarning)\n"
          ],
          "name": "stderr"
        },
        {
          "output_type": "stream",
          "text": [
            "fitting: Materials Science\n",
            "fitting: Methodology\n",
            "fitting: Number Theory\n",
            "fitting: Optimization and Control\n",
            "fitting: Representation Theory\n",
            "fitting: Robotics\n",
            "fitting: Social and Information Networks\n",
            "fitting: Statistics Theory\n",
            "fitting: Strongly Correlated Electrons\n",
            "fitting: Superconductivity\n",
            "fitting: Systems and Control\n",
            "CPU times: user 2min 50s, sys: 1.47 s, total: 2min 52s\n",
            "Wall time: 2min 52s\n"
          ],
          "name": "stdout"
        }
      ]
    },
    {
      "cell_type": "code",
      "metadata": {
        "id": "gCYGlEy92KxN"
      },
      "source": [
        "# nice little trick to use in binary classification challenges\n",
        "# test different activation thresholds to get 1 from zero (default=0.5)\n",
        "# credit: Nikhil Mishra, Analytics Vidhya\n",
        "def get_best_thresholds(true, preds):\n",
        "  thresholds = np.linspace(0, 1, num=101)\n",
        "  best_thresholds = []\n",
        "  for idx, j in enumerate(TARGET_COLS):\n",
        "    f1_scores = [f1_score(true[:, idx], (preds[:, idx] > thresh) * 1) for thresh in thresholds]\n",
        "    best_thresh = thresholds[np.argmax(f1_scores)]\n",
        "    best_thresholds.append(best_thresh)\n",
        "  return best_thresholds"
      ],
      "execution_count": 24,
      "outputs": []
    },
    {
      "cell_type": "code",
      "metadata": {
        "id": "vKcn1LRR2KxO",
        "colab": {
          "base_uri": "https://localhost:8080/"
        },
        "outputId": "0c10bcb9-ad62-4c65-b219-3dfd9efe5830"
      },
      "source": [
        "# get best micro-F1 thresholds \n",
        "best_thresholds = get_best_thresholds(val[TARGET_COLS].values, val_preds)\n",
        "\n",
        "for i, thresh in enumerate(best_thresholds):\n",
        "  val_preds[:, i] = (val_preds[:, i] > thresh) * 1\n",
        "\n",
        "f1_score(val[TARGET_COLS], val_preds, average='micro')"
      ],
      "execution_count": 25,
      "outputs": [
        {
          "output_type": "execute_result",
          "data": {
            "text/plain": [
              "0.7840687231550175"
            ]
          },
          "metadata": {
            "tags": []
          },
          "execution_count": 25
        }
      ]
    },
    {
      "cell_type": "code",
      "metadata": {
        "id": "W4FVZlKy2KxO",
        "colab": {
          "base_uri": "https://localhost:8080/",
          "height": 551
        },
        "outputId": "105c990e-1620-463d-a1dd-04489a707fbf"
      },
      "source": [
        "# plot best thresholds for each tag\r\n",
        "plt.figure(figsize=(10, 8))\r\n",
        "sns.barplot(best_thresholds, TARGET_COLS)\r\n",
        "plt.xlabel('F1 activation threshold')\r\n",
        "plt.ylabel('Tags');"
      ],
      "execution_count": 26,
      "outputs": [
        {
          "output_type": "stream",
          "text": [
            "/usr/local/lib/python3.6/dist-packages/seaborn/_decorators.py:43: FutureWarning: Pass the following variables as keyword args: x, y. From version 0.12, the only valid positional argument will be `data`, and passing other arguments without an explicit keyword will result in an error or misinterpretation.\n",
            "  FutureWarning\n"
          ],
          "name": "stderr"
        },
        {
          "output_type": "display_data",
          "data": {
            "image/png": "[encoded data removed]",
            "text/plain": [
              "<Figure size 720x576 with 1 Axes>"
            ]
          },
          "metadata": {
            "tags": [],
            "needs_background": "light"
          }
        }
      ]
    },
    {
      "cell_type": "code",
      "metadata": {
        "id": "Ag4WgJUS2KxO",
        "colab": {
          "base_uri": "https://localhost:8080/"
        },
        "outputId": "adc37d54-88b7-48d6-9cfd-325037df2406"
      },
      "source": [
        "# round predicted probabilities based on best F1 thresholds\n",
        "for i, thresh in enumerate(best_thresholds):\n",
        "  preds[:, i] = (preds[:, i] > thresh) * 1\n",
        "\n",
        "preds"
      ],
      "execution_count": 27,
      "outputs": [
        {
          "output_type": "execute_result",
          "data": {
            "text/plain": [
              "array([[0., 0., 0., ..., 0., 0., 0.],\n",
              "       [0., 0., 0., ..., 0., 0., 0.],\n",
              "       [0., 0., 0., ..., 0., 0., 0.],\n",
              "       ...,\n",
              "       [0., 0., 1., ..., 0., 0., 0.],\n",
              "       [0., 0., 0., ..., 0., 0., 0.],\n",
              "       [0., 0., 0., ..., 0., 0., 0.]])"
            ]
          },
          "metadata": {
            "tags": []
          },
          "execution_count": 27
        }
      ]
    },
    {
      "cell_type": "code",
      "metadata": {
        "id": "jGybMH6q2KxP"
      },
      "source": [
        "# create submission file\n",
        "ss[TARGET_COLS] = preds.astype(np.int16)\n",
        "ss.to_csv('submission_logreg_char_NB_opt.csv', index=False)"
      ],
      "execution_count": 28,
      "outputs": []
    },
    {
      "cell_type": "code",
      "metadata": {
        "id": "dNxEnGud2KxP",
        "colab": {
          "base_uri": "https://localhost:8080/",
          "height": 35
        },
        "outputId": "4359d987-76d1-4bc1-a140-10cc15e3f473"
      },
      "source": [
        "# and we're done!\r\n",
        "'Done!'"
      ],
      "execution_count": 29,
      "outputs": [
        {
          "output_type": "execute_result",
          "data": {
            "application/vnd.google.colaboratory.intrinsic+json": {
              "type": "string"
            },
            "text/plain": [
              "'Done!'"
            ]
          },
          "metadata": {
            "tags": []
          },
          "execution_count": 29
        }
      ]
    }
  ]
}