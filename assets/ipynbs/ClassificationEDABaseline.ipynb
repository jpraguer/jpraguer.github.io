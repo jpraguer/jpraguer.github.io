{
  "nbformat": 4,
  "nbformat_minor": 0,
  "metadata": {
    "kernelspec": {
      "display_name": "Python 3",
      "language": "python",
      "name": "python3"
    },
    "language_info": {
      "codemirror_mode": {
        "name": "ipython",
        "version": 3
      },
      "file_extension": ".py",
      "mimetype": "text/x-python",
      "name": "python",
      "nbconvert_exporter": "python",
      "pygments_lexer": "ipython3",
      "version": "3.6.12"
    },
    "colab": {
      "name": "EDABaseline.ipynb",
      "provenance": [],
      "collapsed_sections": [],
      "toc_visible": true
    },
    "accelerator": "GPU"
  },
  "cells": [
    {
      "cell_type": "markdown",
      "metadata": {
        "id": "2MG5C4Gq2Vw4"
      },
      "source": [
        "# Janatahack: Cross-sell Prediction\n",
        "[Link to competition here!](https://datahack.analyticsvidhya.com/contest/janatahack-cross-sell-prediction/)\n",
        "\n",
        "Go there and register to be able to download the dataset and submit your predictions.Click the button below to open this notebook in Google Colab!\n",
        "\n",
        "<a href=\"https://colab.research.google.com/github/jpraguer/jpraguer.github.io/master/_posts/ClassificationEDABaseline.ipynb\" target=\"_parent\"><img src=\"https://colab.research.google.com/assets/colab-badge.svg\" alt=\"Open In Colab\"/></a>"
      ]
    },
    {
      "cell_type": "markdown",
      "metadata": {
        "id": "vPq39qLg7sbM"
      },
      "source": [
        "Cross-selling identifies products or services that satisfy additional, complementary needs that are unfulfilled by the original product that a customer possesses. As an example, a mouse could be cross-sold to a customer purchasing a keyboard. Oftentimes, cross-selling points users to products they would have purchased anyways; by showing them at the right time, a store ensures they make the sale.\r\n",
        "\r\n",
        "Cross-selling is prevalent in various domains and industries including banks. For example, credit cards are cross-sold to people registering a savings account. In ecommerce, cross-selling is often utilized on product pages, during the checkout process, and in lifecycle campaigns. It is a highly-effective tactic for generating repeat purchases, demonstrating the breadth of a catalog to customers. Cross-selling can alert users to products they didn't previously know you offered, further earning their confidence as the best retailer to satisfy a particular need."
      ]
    },
    {
      "cell_type": "markdown",
      "metadata": {
        "id": "aKvJIxdU2Vw5"
      },
      "source": [
        "Your client is an Insurance company that has provided Health Insurance to its customers now they need your help in building a model to predict whether the policyholders (customers) from past year will also be interested in Vehicle Insurance provided by the company.\n",
        "\n",
        "An insurance policy is an arrangement by which a company undertakes to provide a guarantee of compensation for specified loss, damage, illness, or death in return for the payment of a specified premium. A premium is a sum of money that the customer needs to pay regularly to an insurance company for this guarantee.\n",
        "\n",
        "For example, you may pay a premium of Rs. 5000 each year for a health insurance cover of Rs. 200,000/- so that if, God forbid, you fall ill and need to be hospitalised in that year, the insurance provider company will bear the cost of hospitalisation etc. for upto Rs. 200,000. Now if you are wondering how can company bear such high hospitalisation cost when it charges a premium of only Rs. 5000/-, that is where the concept of probabilities comes in picture. For example, like you, there may be 100 customers who would be paying a premium of Rs. 5000 every year, but only a few of them (say 2-3) would get hospitalised that year and not everyone. This way everyone shares the risk of everyone else.\n",
        "\n",
        "Just like medical insurance, there is vehicle insurance where every year customer needs to pay a premium of certain amount to insurance provider company so that in case of unfortunate accident by the vehicle, the insurance provider company will provide a compensation (called ‘sum assured’) to the customer.\n",
        "\n",
        "Building a model to predict whether a customer would be interested in Vehicle Insurance is extremely helpful for the company because it can then accordingly plan its communication strategy to reach out to those customers and optimise its business model and revenue. \n",
        "\n",
        "Now, in order to predict, whether the customer would be interested in Vehicle insurance, you have information about demographics (gender, age, region code type), Vehicles (Vehicle Age, Damage), Policy (Premium, sourcing channel) etc."
      ]
    },
    {
      "cell_type": "code",
      "metadata": {
        "id": "Ii5f7oif3FpC",
        "colab": {
          "base_uri": "https://localhost:8080/"
        },
        "outputId": "fb5e2186-bdbf-4064-d173-794e2ad88fab"
      },
      "source": [
        "# install catboost\r\n",
        "!pip install catboost"
      ],
      "execution_count": 1,
      "outputs": [
        {
          "output_type": "stream",
          "text": [
            "Collecting catboost\n",
            "\u001b[?25l  Downloading https://files.pythonhosted.org/packages/20/37/bc4e0ddc30c07a96482abf1de7ed1ca54e59bba2026a33bca6d2ef286e5b/catboost-0.24.4-cp36-none-manylinux1_x86_64.whl (65.7MB)\n",
            "\u001b[K     |████████████████████████████████| 65.8MB 49kB/s \n",
            "\u001b[?25hRequirement already satisfied: six in /usr/local/lib/python3.6/dist-packages (from catboost) (1.15.0)\n",
            "Requirement already satisfied: graphviz in /usr/local/lib/python3.6/dist-packages (from catboost) (0.10.1)\n",
            "Requirement already satisfied: matplotlib in /usr/local/lib/python3.6/dist-packages (from catboost) (3.2.2)\n",
            "Requirement already satisfied: numpy>=1.16.0 in /usr/local/lib/python3.6/dist-packages (from catboost) (1.19.5)\n",
            "Requirement already satisfied: scipy in /usr/local/lib/python3.6/dist-packages (from catboost) (1.4.1)\n",
            "Requirement already satisfied: plotly in /usr/local/lib/python3.6/dist-packages (from catboost) (4.4.1)\n",
            "Requirement already satisfied: pandas>=0.24.0 in /usr/local/lib/python3.6/dist-packages (from catboost) (1.1.5)\n",
            "Requirement already satisfied: cycler>=0.10 in /usr/local/lib/python3.6/dist-packages (from matplotlib->catboost) (0.10.0)\n",
            "Requirement already satisfied: python-dateutil>=2.1 in /usr/local/lib/python3.6/dist-packages (from matplotlib->catboost) (2.8.1)\n",
            "Requirement already satisfied: pyparsing!=2.0.4,!=2.1.2,!=2.1.6,>=2.0.1 in /usr/local/lib/python3.6/dist-packages (from matplotlib->catboost) (2.4.7)\n",
            "Requirement already satisfied: kiwisolver>=1.0.1 in /usr/local/lib/python3.6/dist-packages (from matplotlib->catboost) (1.3.1)\n",
            "Requirement already satisfied: retrying>=1.3.3 in /usr/local/lib/python3.6/dist-packages (from plotly->catboost) (1.3.3)\n",
            "Requirement already satisfied: pytz>=2017.2 in /usr/local/lib/python3.6/dist-packages (from pandas>=0.24.0->catboost) (2018.9)\n",
            "Installing collected packages: catboost\n",
            "Successfully installed catboost-0.24.4\n"
          ],
          "name": "stdout"
        }
      ]
    },
    {
      "cell_type": "code",
      "metadata": {
        "id": "pCbzA7yj2Vw6"
      },
      "source": [
        "# import useful libraries\n",
        "import os\n",
        "import numpy as np\n",
        "import pandas as pd\n",
        "import matplotlib.pyplot as plt\n",
        "import seaborn as sns\n",
        "\n",
        "sns.set_style(\"whitegrid\") # set seaborn graphing style\n",
        "\n",
        "import catboost\n",
        "from catboost import *"
      ],
      "execution_count": 2,
      "outputs": []
    },
    {
      "cell_type": "code",
      "metadata": {
        "id": "oSpMIVCF2hm5",
        "colab": {
          "base_uri": "https://localhost:8080/"
        },
        "outputId": "0bb8d058-4b6f-4bac-9530-d95855032611"
      },
      "source": [
        "# mount G-drive to get data\n",
        "from google.colab import drive\n",
        "drive.mount('/content/drive')"
      ],
      "execution_count": 3,
      "outputs": [
        {
          "output_type": "stream",
          "text": [
            "Mounted at /content/drive\n"
          ],
          "name": "stdout"
        }
      ]
    },
    {
      "cell_type": "code",
      "metadata": {
        "id": "tKGfH8wq2Vw-"
      },
      "source": [
        "# load in data and set seed\n",
        "BASE = \"/content/drive/My Drive/JanataHack/Crossell/data/\"\n",
        "SEED = 2020\n",
        "\n",
        "train_df = pd.read_csv(f\"{BASE}train.csv\")\n",
        "test_df = pd.read_csv(f\"{BASE}test.csv\")\n",
        "submit_df = pd.read_csv(f\"{BASE}sample_submission.csv\")"
      ],
      "execution_count": 4,
      "outputs": []
    },
    {
      "cell_type": "markdown",
      "metadata": {
        "id": "TSdLb_QC2VxB"
      },
      "source": [
        "## EDA starts\n",
        "First we look at the first few rows of all datasets."
      ]
    },
    {
      "cell_type": "code",
      "metadata": {
        "id": "tOo0DhjT2VxC",
        "colab": {
          "base_uri": "https://localhost:8080/",
          "height": 204
        },
        "outputId": "0f31e773-a358-4edc-dc14-bc460411ccff"
      },
      "source": [
        "train_df.head()"
      ],
      "execution_count": 5,
      "outputs": [
        {
          "output_type": "execute_result",
          "data": {
            "text/html": [
              "<div>\n",
              "<style scoped>\n",
              "    .dataframe tbody tr th:only-of-type {\n",
              "        vertical-align: middle;\n",
              "    }\n",
              "\n",
              "    .dataframe tbody tr th {\n",
              "        vertical-align: top;\n",
              "    }\n",
              "\n",
              "    .dataframe thead th {\n",
              "        text-align: right;\n",
              "    }\n",
              "</style>\n",
              "<table border=\"1\" class=\"dataframe\">\n",
              "  <thead>\n",
              "    <tr style=\"text-align: right;\">\n",
              "      <th></th>\n",
              "      <th>id</th>\n",
              "      <th>Gender</th>\n",
              "      <th>Age</th>\n",
              "      <th>Driving_License</th>\n",
              "      <th>Region_Code</th>\n",
              "      <th>Previously_Insured</th>\n",
              "      <th>Vehicle_Age</th>\n",
              "      <th>Vehicle_Damage</th>\n",
              "      <th>Annual_Premium</th>\n",
              "      <th>Policy_Sales_Channel</th>\n",
              "      <th>Vintage</th>\n",
              "      <th>Response</th>\n",
              "    </tr>\n",
              "  </thead>\n",
              "  <tbody>\n",
              "    <tr>\n",
              "      <th>0</th>\n",
              "      <td>1</td>\n",
              "      <td>Male</td>\n",
              "      <td>44</td>\n",
              "      <td>1</td>\n",
              "      <td>28.0</td>\n",
              "      <td>0</td>\n",
              "      <td>&gt; 2 Years</td>\n",
              "      <td>Yes</td>\n",
              "      <td>40454.0</td>\n",
              "      <td>26.0</td>\n",
              "      <td>217</td>\n",
              "      <td>1</td>\n",
              "    </tr>\n",
              "    <tr>\n",
              "      <th>1</th>\n",
              "      <td>2</td>\n",
              "      <td>Male</td>\n",
              "      <td>76</td>\n",
              "      <td>1</td>\n",
              "      <td>3.0</td>\n",
              "      <td>0</td>\n",
              "      <td>1-2 Year</td>\n",
              "      <td>No</td>\n",
              "      <td>33536.0</td>\n",
              "      <td>26.0</td>\n",
              "      <td>183</td>\n",
              "      <td>0</td>\n",
              "    </tr>\n",
              "    <tr>\n",
              "      <th>2</th>\n",
              "      <td>3</td>\n",
              "      <td>Male</td>\n",
              "      <td>47</td>\n",
              "      <td>1</td>\n",
              "      <td>28.0</td>\n",
              "      <td>0</td>\n",
              "      <td>&gt; 2 Years</td>\n",
              "      <td>Yes</td>\n",
              "      <td>38294.0</td>\n",
              "      <td>26.0</td>\n",
              "      <td>27</td>\n",
              "      <td>1</td>\n",
              "    </tr>\n",
              "    <tr>\n",
              "      <th>3</th>\n",
              "      <td>4</td>\n",
              "      <td>Male</td>\n",
              "      <td>21</td>\n",
              "      <td>1</td>\n",
              "      <td>11.0</td>\n",
              "      <td>1</td>\n",
              "      <td>&lt; 1 Year</td>\n",
              "      <td>No</td>\n",
              "      <td>28619.0</td>\n",
              "      <td>152.0</td>\n",
              "      <td>203</td>\n",
              "      <td>0</td>\n",
              "    </tr>\n",
              "    <tr>\n",
              "      <th>4</th>\n",
              "      <td>5</td>\n",
              "      <td>Female</td>\n",
              "      <td>29</td>\n",
              "      <td>1</td>\n",
              "      <td>41.0</td>\n",
              "      <td>1</td>\n",
              "      <td>&lt; 1 Year</td>\n",
              "      <td>No</td>\n",
              "      <td>27496.0</td>\n",
              "      <td>152.0</td>\n",
              "      <td>39</td>\n",
              "      <td>0</td>\n",
              "    </tr>\n",
              "  </tbody>\n",
              "</table>\n",
              "</div>"
            ],
            "text/plain": [
              "   id  Gender  Age  ...  Policy_Sales_Channel  Vintage  Response\n",
              "0   1    Male   44  ...                  26.0      217         1\n",
              "1   2    Male   76  ...                  26.0      183         0\n",
              "2   3    Male   47  ...                  26.0       27         1\n",
              "3   4    Male   21  ...                 152.0      203         0\n",
              "4   5  Female   29  ...                 152.0       39         0\n",
              "\n",
              "[5 rows x 12 columns]"
            ]
          },
          "metadata": {
            "tags": []
          },
          "execution_count": 5
        }
      ]
    },
    {
      "cell_type": "code",
      "metadata": {
        "id": "hll84iWa2VxF",
        "colab": {
          "base_uri": "https://localhost:8080/",
          "height": 204
        },
        "outputId": "6f1e2907-2e7e-4d0d-8daf-9d8e4b7d247f"
      },
      "source": [
        "submit_df.head()"
      ],
      "execution_count": 6,
      "outputs": [
        {
          "output_type": "execute_result",
          "data": {
            "text/html": [
              "<div>\n",
              "<style scoped>\n",
              "    .dataframe tbody tr th:only-of-type {\n",
              "        vertical-align: middle;\n",
              "    }\n",
              "\n",
              "    .dataframe tbody tr th {\n",
              "        vertical-align: top;\n",
              "    }\n",
              "\n",
              "    .dataframe thead th {\n",
              "        text-align: right;\n",
              "    }\n",
              "</style>\n",
              "<table border=\"1\" class=\"dataframe\">\n",
              "  <thead>\n",
              "    <tr style=\"text-align: right;\">\n",
              "      <th></th>\n",
              "      <th>id</th>\n",
              "      <th>Response</th>\n",
              "    </tr>\n",
              "  </thead>\n",
              "  <tbody>\n",
              "    <tr>\n",
              "      <th>0</th>\n",
              "      <td>381110</td>\n",
              "      <td>0</td>\n",
              "    </tr>\n",
              "    <tr>\n",
              "      <th>1</th>\n",
              "      <td>381111</td>\n",
              "      <td>0</td>\n",
              "    </tr>\n",
              "    <tr>\n",
              "      <th>2</th>\n",
              "      <td>381112</td>\n",
              "      <td>0</td>\n",
              "    </tr>\n",
              "    <tr>\n",
              "      <th>3</th>\n",
              "      <td>381113</td>\n",
              "      <td>0</td>\n",
              "    </tr>\n",
              "    <tr>\n",
              "      <th>4</th>\n",
              "      <td>381114</td>\n",
              "      <td>0</td>\n",
              "    </tr>\n",
              "  </tbody>\n",
              "</table>\n",
              "</div>"
            ],
            "text/plain": [
              "       id  Response\n",
              "0  381110         0\n",
              "1  381111         0\n",
              "2  381112         0\n",
              "3  381113         0\n",
              "4  381114         0"
            ]
          },
          "metadata": {
            "tags": []
          },
          "execution_count": 6
        }
      ]
    },
    {
      "cell_type": "code",
      "metadata": {
        "id": "4Rdr0uJf2VxI",
        "colab": {
          "base_uri": "https://localhost:8080/"
        },
        "outputId": "dac54c41-6221-4000-8a4c-f3706f8bde82"
      },
      "source": [
        "# look at distribution of target variable\n",
        "train_df[\"Response\"].value_counts()"
      ],
      "execution_count": 7,
      "outputs": [
        {
          "output_type": "execute_result",
          "data": {
            "text/plain": [
              "0    334399\n",
              "1     46710\n",
              "Name: Response, dtype: int64"
            ]
          },
          "metadata": {
            "tags": []
          },
          "execution_count": 7
        }
      ]
    },
    {
      "cell_type": "code",
      "metadata": {
        "id": "-mJ7djFM2VxL",
        "colab": {
          "base_uri": "https://localhost:8080/"
        },
        "outputId": "68a0d93e-7a9f-467f-bbb5-6caca34c166d"
      },
      "source": [
        "# look at which variables are null and if they were parsed correctly\n",
        "train_df.info()"
      ],
      "execution_count": 8,
      "outputs": [
        {
          "output_type": "stream",
          "text": [
            "<class 'pandas.core.frame.DataFrame'>\n",
            "RangeIndex: 381109 entries, 0 to 381108\n",
            "Data columns (total 12 columns):\n",
            " #   Column                Non-Null Count   Dtype  \n",
            "---  ------                --------------   -----  \n",
            " 0   id                    381109 non-null  int64  \n",
            " 1   Gender                381109 non-null  object \n",
            " 2   Age                   381109 non-null  int64  \n",
            " 3   Driving_License       381109 non-null  int64  \n",
            " 4   Region_Code           381109 non-null  float64\n",
            " 5   Previously_Insured    381109 non-null  int64  \n",
            " 6   Vehicle_Age           381109 non-null  object \n",
            " 7   Vehicle_Damage        381109 non-null  object \n",
            " 8   Annual_Premium        381109 non-null  float64\n",
            " 9   Policy_Sales_Channel  381109 non-null  float64\n",
            " 10  Vintage               381109 non-null  int64  \n",
            " 11  Response              381109 non-null  int64  \n",
            "dtypes: float64(3), int64(6), object(3)\n",
            "memory usage: 34.9+ MB\n"
          ],
          "name": "stdout"
        }
      ]
    },
    {
      "cell_type": "code",
      "metadata": {
        "id": "eNcTUnk_2VxO",
        "colab": {
          "base_uri": "https://localhost:8080/"
        },
        "outputId": "d251c0e6-8d57-4820-9e89-84996751b769"
      },
      "source": [
        "test_df.info()"
      ],
      "execution_count": 9,
      "outputs": [
        {
          "output_type": "stream",
          "text": [
            "<class 'pandas.core.frame.DataFrame'>\n",
            "RangeIndex: 127037 entries, 0 to 127036\n",
            "Data columns (total 11 columns):\n",
            " #   Column                Non-Null Count   Dtype  \n",
            "---  ------                --------------   -----  \n",
            " 0   id                    127037 non-null  int64  \n",
            " 1   Gender                127037 non-null  object \n",
            " 2   Age                   127037 non-null  int64  \n",
            " 3   Driving_License       127037 non-null  int64  \n",
            " 4   Region_Code           127037 non-null  float64\n",
            " 5   Previously_Insured    127037 non-null  int64  \n",
            " 6   Vehicle_Age           127037 non-null  object \n",
            " 7   Vehicle_Damage        127037 non-null  object \n",
            " 8   Annual_Premium        127037 non-null  float64\n",
            " 9   Policy_Sales_Channel  127037 non-null  float64\n",
            " 10  Vintage               127037 non-null  int64  \n",
            "dtypes: float64(3), int64(5), object(3)\n",
            "memory usage: 10.7+ MB\n"
          ],
          "name": "stdout"
        }
      ]
    },
    {
      "cell_type": "markdown",
      "metadata": {
        "id": "Z4tp4cct2VxR"
      },
      "source": [
        "No nulls, therefore no imputation needed! For examples of imputation, please check out my other templates!"
      ]
    },
    {
      "cell_type": "markdown",
      "metadata": {
        "id": "owKjiLbj2VxR"
      },
      "source": [
        "### Looking at categorical columns\n",
        "Because of all the categorical columns I decided to set a baseline in Catboost. Here are value counts and countplots for all of them, they prove useful to gauge relationship with the target column (if any)."
      ]
    },
    {
      "cell_type": "code",
      "metadata": {
        "id": "qrTd9HH-2VxS",
        "colab": {
          "base_uri": "https://localhost:8080/"
        },
        "outputId": "4361c55e-19e6-474f-bf9d-1d2ddeaaa9aa"
      },
      "source": [
        "train_df[\"Gender\"].value_counts()"
      ],
      "execution_count": 10,
      "outputs": [
        {
          "output_type": "execute_result",
          "data": {
            "text/plain": [
              "Male      206089\n",
              "Female    175020\n",
              "Name: Gender, dtype: int64"
            ]
          },
          "metadata": {
            "tags": []
          },
          "execution_count": 10
        }
      ]
    },
    {
      "cell_type": "code",
      "metadata": {
        "id": "Wf25yADQ2VxU",
        "colab": {
          "base_uri": "https://localhost:8080/",
          "height": 334
        },
        "outputId": "2ef4df36-90ce-42c9-e2e1-0e4f81278a09"
      },
      "source": [
        "plt.figure(figsize=(20,5))\n",
        "sns.countplot(x=\"Gender\", hue=\"Response\", data=train_df);"
      ],
      "execution_count": 11,
      "outputs": [
        {
          "output_type": "display_data",
          "data": {
            "image/png": "[encoded data removed]",
            "text/plain": [
              "<Figure size 1440x360 with 1 Axes>"
            ]
          },
          "metadata": {
            "tags": []
          }
        }
      ]
    },
    {
      "cell_type": "markdown",
      "metadata": {
        "id": "kNWtpk6-0faP"
      },
      "source": [
        "Slightly more male than female drivers, proportion of insurance is also higher for men."
      ]
    },
    {
      "cell_type": "code",
      "metadata": {
        "id": "hIf3CWVw2VxY",
        "colab": {
          "base_uri": "https://localhost:8080/"
        },
        "outputId": "e5046868-6c68-4e0d-dbfa-11a90ac47409"
      },
      "source": [
        "train_df[\"Driving_License\"].value_counts()"
      ],
      "execution_count": 12,
      "outputs": [
        {
          "output_type": "execute_result",
          "data": {
            "text/plain": [
              "1    380297\n",
              "0       812\n",
              "Name: Driving_License, dtype: int64"
            ]
          },
          "metadata": {
            "tags": []
          },
          "execution_count": 12
        }
      ]
    },
    {
      "cell_type": "code",
      "metadata": {
        "id": "kQbKDOkH2Vxc",
        "colab": {
          "base_uri": "https://localhost:8080/",
          "height": 338
        },
        "outputId": "7676b070-7f48-4931-bf75-1f84485209ab"
      },
      "source": [
        "plt.figure(figsize=(20,5))\n",
        "sns.countplot(x=\"Driving_License\", hue=\"Response\", data=train_df);"
      ],
      "execution_count": 13,
      "outputs": [
        {
          "output_type": "display_data",
          "data": {
            "image/png": "[encoded data removed]",
            "text/plain": [
              "<Figure size 1440x360 with 1 Axes>"
            ]
          },
          "metadata": {
            "tags": []
          }
        }
      ]
    },
    {
      "cell_type": "markdown",
      "metadata": {
        "id": "UZX-LCIxzQev"
      },
      "source": [
        "Looks like everyone in the dataset has a driver's license!"
      ]
    },
    {
      "cell_type": "code",
      "metadata": {
        "id": "Xis2zmDL2Vxj",
        "colab": {
          "base_uri": "https://localhost:8080/"
        },
        "outputId": "a4020256-b2be-4139-c270-f988b3ddc089"
      },
      "source": [
        "train_df[\"Region_Code\"].value_counts().head(25)"
      ],
      "execution_count": 16,
      "outputs": [
        {
          "output_type": "execute_result",
          "data": {
            "text/plain": [
              "28.0    106415\n",
              "8.0      33877\n",
              "46.0     19749\n",
              "41.0     18263\n",
              "15.0     13308\n",
              "30.0     12191\n",
              "29.0     11065\n",
              "50.0     10243\n",
              "3.0       9251\n",
              "11.0      9232\n",
              "36.0      8797\n",
              "33.0      7654\n",
              "47.0      7436\n",
              "35.0      6942\n",
              "6.0       6280\n",
              "45.0      5605\n",
              "37.0      5501\n",
              "18.0      5153\n",
              "48.0      4681\n",
              "14.0      4678\n",
              "39.0      4644\n",
              "10.0      4374\n",
              "21.0      4266\n",
              "2.0       4038\n",
              "13.0      4036\n",
              "Name: Region_Code, dtype: int64"
            ]
          },
          "metadata": {
            "tags": []
          },
          "execution_count": 16
        }
      ]
    },
    {
      "cell_type": "code",
      "metadata": {
        "id": "TMS4sVev2Vxo",
        "colab": {
          "base_uri": "https://localhost:8080/",
          "height": 335
        },
        "outputId": "be9c9560-cdb5-4b04-dce0-47e69f73a5ad"
      },
      "source": [
        "plt.figure(figsize=(20,5))\n",
        "sns.countplot(x=\"Region_Code\", hue=\"Response\", data=train_df);"
      ],
      "execution_count": 17,
      "outputs": [
        {
          "output_type": "display_data",
          "data": {
            "image/png": "[encoded data removed]",
            "text/plain": [
              "<Figure size 1440x360 with 1 Axes>"
            ]
          },
          "metadata": {
            "tags": []
          }
        }
      ]
    },
    {
      "cell_type": "markdown",
      "metadata": {
        "id": "Gr-iowsIz9o6"
      },
      "source": [
        "We could add a features that flags the most popular regions. Or the ones with the highest proportion of positive response."
      ]
    },
    {
      "cell_type": "code",
      "metadata": {
        "id": "FebAr-az2Vxu",
        "colab": {
          "base_uri": "https://localhost:8080/"
        },
        "outputId": "f5f2b668-dec0-4240-dd84-8ed239190f7a"
      },
      "source": [
        "train_df[\"Previously_Insured\"].value_counts()"
      ],
      "execution_count": 18,
      "outputs": [
        {
          "output_type": "execute_result",
          "data": {
            "text/plain": [
              "0    206481\n",
              "1    174628\n",
              "Name: Previously_Insured, dtype: int64"
            ]
          },
          "metadata": {
            "tags": []
          },
          "execution_count": 18
        }
      ]
    },
    {
      "cell_type": "code",
      "metadata": {
        "id": "mZy0NN_t2Vxy",
        "colab": {
          "base_uri": "https://localhost:8080/",
          "height": 335
        },
        "outputId": "e4eac6f5-59ec-4f35-b973-953ff3fe724e"
      },
      "source": [
        "plt.figure(figsize=(20,5))\n",
        "sns.countplot(x=\"Previously_Insured\", hue=\"Response\", data=train_df);"
      ],
      "execution_count": 19,
      "outputs": [
        {
          "output_type": "display_data",
          "data": {
            "image/png": "[encoded data removed]",
            "text/plain": [
              "<Figure size 1440x360 with 1 Axes>"
            ]
          },
          "metadata": {
            "tags": []
          }
        }
      ]
    },
    {
      "cell_type": "code",
      "metadata": {
        "id": "ZMRq8yE_2Vx1",
        "colab": {
          "base_uri": "https://localhost:8080/"
        },
        "outputId": "94db7a13-d718-4fb5-95d9-04fe98391ddc"
      },
      "source": [
        "train_df[\"Vehicle_Age\"].value_counts()"
      ],
      "execution_count": 20,
      "outputs": [
        {
          "output_type": "execute_result",
          "data": {
            "text/plain": [
              "1-2 Year     200316\n",
              "< 1 Year     164786\n",
              "> 2 Years     16007\n",
              "Name: Vehicle_Age, dtype: int64"
            ]
          },
          "metadata": {
            "tags": []
          },
          "execution_count": 20
        }
      ]
    },
    {
      "cell_type": "code",
      "metadata": {
        "id": "O8_fz8oe2Vx6",
        "colab": {
          "base_uri": "https://localhost:8080/",
          "height": 335
        },
        "outputId": "60d3cfcc-6169-469f-8b2a-3274f3a38189"
      },
      "source": [
        "plt.figure(figsize=(20,5))\n",
        "sns.countplot(x=\"Vehicle_Age\", hue=\"Response\", data=train_df);"
      ],
      "execution_count": 21,
      "outputs": [
        {
          "output_type": "display_data",
          "data": {
            "image/png": "[encoded data removed]",
            "text/plain": [
              "<Figure size 1440x360 with 1 Axes>"
            ]
          },
          "metadata": {
            "tags": []
          }
        }
      ]
    },
    {
      "cell_type": "markdown",
      "metadata": {
        "id": "jKX8ia-e0KCn"
      },
      "source": [
        "Looks like there a much higher proportion of insured cars in 1-2 year category, than in the < 1 year category."
      ]
    },
    {
      "cell_type": "code",
      "metadata": {
        "id": "G_3jQPgG2Vx_",
        "colab": {
          "base_uri": "https://localhost:8080/"
        },
        "outputId": "d578abae-60af-430f-9a65-acc8e2647358"
      },
      "source": [
        "train_df[\"Vehicle_Damage\"].value_counts()"
      ],
      "execution_count": 22,
      "outputs": [
        {
          "output_type": "execute_result",
          "data": {
            "text/plain": [
              "Yes    192413\n",
              "No     188696\n",
              "Name: Vehicle_Damage, dtype: int64"
            ]
          },
          "metadata": {
            "tags": []
          },
          "execution_count": 22
        }
      ]
    },
    {
      "cell_type": "code",
      "metadata": {
        "id": "JlbpBM2j2VyC",
        "colab": {
          "base_uri": "https://localhost:8080/",
          "height": 335
        },
        "outputId": "720d5a8f-e708-4930-c90d-6b65ba157a3c"
      },
      "source": [
        "plt.figure(figsize=(20,5))\n",
        "sns.countplot(x=\"Vehicle_Damage\", hue=\"Response\", data=train_df);"
      ],
      "execution_count": 23,
      "outputs": [
        {
          "output_type": "display_data",
          "data": {
            "image/png": "[encoded data removed]",
            "text/plain": [
              "<Figure size 1440x360 with 1 Axes>"
            ]
          },
          "metadata": {
            "tags": []
          }
        }
      ]
    },
    {
      "cell_type": "markdown",
      "metadata": {
        "id": "DzdSugZt0V5B"
      },
      "source": [
        "No vehicle damage => no insurance needed!"
      ]
    },
    {
      "cell_type": "code",
      "metadata": {
        "id": "0j2DA1S32VyE",
        "colab": {
          "base_uri": "https://localhost:8080/"
        },
        "outputId": "bea0fca7-6562-4a59-ce78-9bc81048022d"
      },
      "source": [
        "train_df[\"Policy_Sales_Channel\"].value_counts().head(25)"
      ],
      "execution_count": 24,
      "outputs": [
        {
          "output_type": "execute_result",
          "data": {
            "text/plain": [
              "152.0    134784\n",
              "26.0      79700\n",
              "124.0     73995\n",
              "160.0     21779\n",
              "156.0     10661\n",
              "122.0      9930\n",
              "157.0      6684\n",
              "154.0      5993\n",
              "151.0      3885\n",
              "163.0      2893\n",
              "13.0       1865\n",
              "25.0       1848\n",
              "7.0        1598\n",
              "8.0        1515\n",
              "30.0       1410\n",
              "55.0       1264\n",
              "155.0      1234\n",
              "11.0       1203\n",
              "1.0        1074\n",
              "52.0       1055\n",
              "125.0      1026\n",
              "15.0        888\n",
              "29.0        843\n",
              "12.0        783\n",
              "120.0       769\n",
              "Name: Policy_Sales_Channel, dtype: int64"
            ]
          },
          "metadata": {
            "tags": []
          },
          "execution_count": 24
        }
      ]
    },
    {
      "cell_type": "code",
      "metadata": {
        "id": "WWWtMSU12VyH",
        "colab": {
          "base_uri": "https://localhost:8080/",
          "height": 335
        },
        "outputId": "3f893bb0-ddae-4f7b-baa7-b5b40d639976"
      },
      "source": [
        "plt.figure(figsize=(20,5))\n",
        "sns.countplot(x=\"Policy_Sales_Channel\", hue=\"Response\", data=train_df);"
      ],
      "execution_count": 25,
      "outputs": [
        {
          "output_type": "display_data",
          "data": {
            "image/png": "[encoded data removed]",
            "text/plain": [
              "<Figure size 1440x360 with 1 Axes>"
            ]
          },
          "metadata": {
            "tags": []
          }
        }
      ]
    },
    {
      "cell_type": "markdown",
      "metadata": {
        "id": "MBZWGqed2VyJ"
      },
      "source": [
        "### Analysis of continuous variables\n",
        "Plotted boxplots by target variable and kernel density estimates for each continuous variable to draw interesting insight."
      ]
    },
    {
      "cell_type": "code",
      "metadata": {
        "id": "ffckyYVZ2VyJ",
        "colab": {
          "base_uri": "https://localhost:8080/",
          "height": 333
        },
        "outputId": "4ab315b3-c6d6-4b5d-cce5-d81b351b63e0"
      },
      "source": [
        "# insured people are older on average by about 7 years\r\n",
        "sns.boxplot(train_df[\"Response\"], train_df[\"Age\"]);"
      ],
      "execution_count": 26,
      "outputs": [
        {
          "output_type": "stream",
          "text": [
            "/usr/local/lib/python3.6/dist-packages/seaborn/_decorators.py:43: FutureWarning: Pass the following variables as keyword args: x, y. From version 0.12, the only valid positional argument will be `data`, and passing other arguments without an explicit keyword will result in an error or misinterpretation.\n",
            "  FutureWarning\n"
          ],
          "name": "stderr"
        },
        {
          "output_type": "display_data",
          "data": {
            "image/png": "[encoded data removed]",
            "text/plain": [
              "<Figure size 432x288 with 1 Axes>"
            ]
          },
          "metadata": {
            "tags": []
          }
        }
      ]
    },
    {
      "cell_type": "code",
      "metadata": {
        "id": "YnWgruts2VyM",
        "colab": {
          "base_uri": "https://localhost:8080/",
          "height": 279
        },
        "outputId": "b233dbd5-2c5c-4f69-c895-6f72eddc49a0"
      },
      "source": [
        "# bimodal distribution of age\r\n",
        "sns.kdeplot(train_df[\"Age\"]);"
      ],
      "execution_count": 27,
      "outputs": [
        {
          "output_type": "display_data",
          "data": {
            "image/png": "[encoded data removed]",
            "text/plain": [
              "<Figure size 432x288 with 1 Axes>"
            ]
          },
          "metadata": {
            "tags": []
          }
        }
      ]
    },
    {
      "cell_type": "code",
      "metadata": {
        "id": "CeAZQNeT2VyQ",
        "colab": {
          "base_uri": "https://localhost:8080/",
          "height": 333
        },
        "outputId": "81246b31-5aeb-4b72-91d4-2560e8092a33"
      },
      "source": [
        "# not much of a difference, lots of outliers even with log-transformation of premium paid\r\n",
        "sns.boxplot(train_df[\"Response\"], np.log10(train_df[\"Annual_Premium\"]));"
      ],
      "execution_count": 28,
      "outputs": [
        {
          "output_type": "stream",
          "text": [
            "/usr/local/lib/python3.6/dist-packages/seaborn/_decorators.py:43: FutureWarning: Pass the following variables as keyword args: x, y. From version 0.12, the only valid positional argument will be `data`, and passing other arguments without an explicit keyword will result in an error or misinterpretation.\n",
            "  FutureWarning\n"
          ],
          "name": "stderr"
        },
        {
          "output_type": "display_data",
          "data": {
            "image/png": "[encoded data removed]",
            "text/plain": [
              "<Figure size 432x288 with 1 Axes>"
            ]
          },
          "metadata": {
            "tags": []
          }
        }
      ]
    },
    {
      "cell_type": "code",
      "metadata": {
        "id": "1S7aqYU_2VyS",
        "colab": {
          "base_uri": "https://localhost:8080/",
          "height": 280
        },
        "outputId": "50ef185d-c4c9-4146-9f31-9272bb3da169"
      },
      "source": [
        "# bimodal distribution of annual premium\r\n",
        "sns.kdeplot(np.log10(train_df[\"Annual_Premium\"]));"
      ],
      "execution_count": 29,
      "outputs": [
        {
          "output_type": "display_data",
          "data": {
            "image/png": "[encoded data removed]",
            "text/plain": [
              "<Figure size 432x288 with 1 Axes>"
            ]
          },
          "metadata": {
            "tags": []
          }
        }
      ]
    },
    {
      "cell_type": "code",
      "metadata": {
        "id": "thn8Ixq02VyV",
        "colab": {
          "base_uri": "https://localhost:8080/",
          "height": 333
        },
        "outputId": "6e902375-2023-4b02-ef2f-17386fdb197f"
      },
      "source": [
        "# this does not make much sense, but looking to see if it would be worth it not to encode this variable as continuous\r\n",
        "sns.boxplot(train_df[\"Response\"], train_df[\"Policy_Sales_Channel\"]);"
      ],
      "execution_count": 43,
      "outputs": [
        {
          "output_type": "stream",
          "text": [
            "/usr/local/lib/python3.6/dist-packages/seaborn/_decorators.py:43: FutureWarning: Pass the following variables as keyword args: x, y. From version 0.12, the only valid positional argument will be `data`, and passing other arguments without an explicit keyword will result in an error or misinterpretation.\n",
            "  FutureWarning\n"
          ],
          "name": "stderr"
        },
        {
          "output_type": "display_data",
          "data": {
            "image/png": "[encoded data removed]",
            "text/plain": [
              "<Figure size 432x288 with 1 Axes>"
            ]
          },
          "metadata": {
            "tags": []
          }
        }
      ]
    },
    {
      "cell_type": "code",
      "metadata": {
        "id": "fARAhgA62VyY",
        "colab": {
          "base_uri": "https://localhost:8080/",
          "height": 280
        },
        "outputId": "530938bb-7ff4-4028-ccff-6f37d14cf883"
      },
      "source": [
        "sns.kdeplot(train_df[\"Policy_Sales_Channel\"]);"
      ],
      "execution_count": 44,
      "outputs": [
        {
          "output_type": "display_data",
          "data": {
            "image/png": "[encoded data removed]",
            "text/plain": [
              "<Figure size 432x288 with 1 Axes>"
            ]
          },
          "metadata": {
            "tags": []
          }
        }
      ]
    },
    {
      "cell_type": "code",
      "metadata": {
        "id": "-uJoo83J2Vyb",
        "colab": {
          "base_uri": "https://localhost:8080/",
          "height": 333
        },
        "outputId": "14ed53a6-7b05-48f7-e10c-ccc724387805"
      },
      "source": [
        "# not much of a difference here\r\n",
        "sns.boxplot(train_df[\"Response\"], train_df[\"Vintage\"]);"
      ],
      "execution_count": 45,
      "outputs": [
        {
          "output_type": "stream",
          "text": [
            "/usr/local/lib/python3.6/dist-packages/seaborn/_decorators.py:43: FutureWarning: Pass the following variables as keyword args: x, y. From version 0.12, the only valid positional argument will be `data`, and passing other arguments without an explicit keyword will result in an error or misinterpretation.\n",
            "  FutureWarning\n"
          ],
          "name": "stderr"
        },
        {
          "output_type": "display_data",
          "data": {
            "image/png": "[encoded data removed]",
            "text/plain": [
              "<Figure size 432x288 with 1 Axes>"
            ]
          },
          "metadata": {
            "tags": []
          }
        }
      ]
    },
    {
      "cell_type": "code",
      "metadata": {
        "id": "Djr9-HY72Vyd",
        "colab": {
          "base_uri": "https://localhost:8080/",
          "height": 279
        },
        "outputId": "87c2bc3b-41bd-48e4-e1a0-f3a98db1167a"
      },
      "source": [
        "sns.kdeplot(train_df[\"Vintage\"]);"
      ],
      "execution_count": 46,
      "outputs": [
        {
          "output_type": "display_data",
          "data": {
            "image/png": "[encoded data removed]",
            "text/plain": [
              "<Figure size 432x288 with 1 Axes>"
            ]
          },
          "metadata": {
            "tags": []
          }
        }
      ]
    },
    {
      "cell_type": "markdown",
      "metadata": {
        "id": "r6S_Aps92Vyg"
      },
      "source": [
        "Vintage doesn't seem to have an effect on target variable, Policy Sales Channel, Annual Premium, and Age do."
      ]
    },
    {
      "cell_type": "markdown",
      "metadata": {
        "id": "a38x5cSy2Vyh"
      },
      "source": [
        "## Baseline Model\n",
        "Alright, after basic EDA of all variables, it's time to introduce the basic Catboost model with no tuning as a baseline."
      ]
    },
    {
      "cell_type": "code",
      "metadata": {
        "id": "J7usOnrN2Vyh",
        "colab": {
          "base_uri": "https://localhost:8080/",
          "height": 204
        },
        "outputId": "2c5a10a3-57f9-482f-f083-ef339db40437"
      },
      "source": [
        "# Data preparation\n",
        "y = train_df['Response'].values\n",
        "X = train_df.drop(['Response', 'id'], axis=1)\n",
        "X.head()"
      ],
      "execution_count": 30,
      "outputs": [
        {
          "output_type": "execute_result",
          "data": {
            "text/html": [
              "<div>\n",
              "<style scoped>\n",
              "    .dataframe tbody tr th:only-of-type {\n",
              "        vertical-align: middle;\n",
              "    }\n",
              "\n",
              "    .dataframe tbody tr th {\n",
              "        vertical-align: top;\n",
              "    }\n",
              "\n",
              "    .dataframe thead th {\n",
              "        text-align: right;\n",
              "    }\n",
              "</style>\n",
              "<table border=\"1\" class=\"dataframe\">\n",
              "  <thead>\n",
              "    <tr style=\"text-align: right;\">\n",
              "      <th></th>\n",
              "      <th>Gender</th>\n",
              "      <th>Age</th>\n",
              "      <th>Driving_License</th>\n",
              "      <th>Region_Code</th>\n",
              "      <th>Previously_Insured</th>\n",
              "      <th>Vehicle_Age</th>\n",
              "      <th>Vehicle_Damage</th>\n",
              "      <th>Annual_Premium</th>\n",
              "      <th>Policy_Sales_Channel</th>\n",
              "      <th>Vintage</th>\n",
              "    </tr>\n",
              "  </thead>\n",
              "  <tbody>\n",
              "    <tr>\n",
              "      <th>0</th>\n",
              "      <td>Male</td>\n",
              "      <td>44</td>\n",
              "      <td>1</td>\n",
              "      <td>28.0</td>\n",
              "      <td>0</td>\n",
              "      <td>&gt; 2 Years</td>\n",
              "      <td>Yes</td>\n",
              "      <td>40454.0</td>\n",
              "      <td>26.0</td>\n",
              "      <td>217</td>\n",
              "    </tr>\n",
              "    <tr>\n",
              "      <th>1</th>\n",
              "      <td>Male</td>\n",
              "      <td>76</td>\n",
              "      <td>1</td>\n",
              "      <td>3.0</td>\n",
              "      <td>0</td>\n",
              "      <td>1-2 Year</td>\n",
              "      <td>No</td>\n",
              "      <td>33536.0</td>\n",
              "      <td>26.0</td>\n",
              "      <td>183</td>\n",
              "    </tr>\n",
              "    <tr>\n",
              "      <th>2</th>\n",
              "      <td>Male</td>\n",
              "      <td>47</td>\n",
              "      <td>1</td>\n",
              "      <td>28.0</td>\n",
              "      <td>0</td>\n",
              "      <td>&gt; 2 Years</td>\n",
              "      <td>Yes</td>\n",
              "      <td>38294.0</td>\n",
              "      <td>26.0</td>\n",
              "      <td>27</td>\n",
              "    </tr>\n",
              "    <tr>\n",
              "      <th>3</th>\n",
              "      <td>Male</td>\n",
              "      <td>21</td>\n",
              "      <td>1</td>\n",
              "      <td>11.0</td>\n",
              "      <td>1</td>\n",
              "      <td>&lt; 1 Year</td>\n",
              "      <td>No</td>\n",
              "      <td>28619.0</td>\n",
              "      <td>152.0</td>\n",
              "      <td>203</td>\n",
              "    </tr>\n",
              "    <tr>\n",
              "      <th>4</th>\n",
              "      <td>Female</td>\n",
              "      <td>29</td>\n",
              "      <td>1</td>\n",
              "      <td>41.0</td>\n",
              "      <td>1</td>\n",
              "      <td>&lt; 1 Year</td>\n",
              "      <td>No</td>\n",
              "      <td>27496.0</td>\n",
              "      <td>152.0</td>\n",
              "      <td>39</td>\n",
              "    </tr>\n",
              "  </tbody>\n",
              "</table>\n",
              "</div>"
            ],
            "text/plain": [
              "   Gender  Age  Driving_License  ...  Annual_Premium  Policy_Sales_Channel Vintage\n",
              "0    Male   44                1  ...         40454.0                  26.0     217\n",
              "1    Male   76                1  ...         33536.0                  26.0     183\n",
              "2    Male   47                1  ...         38294.0                  26.0      27\n",
              "3    Male   21                1  ...         28619.0                 152.0     203\n",
              "4  Female   29                1  ...         27496.0                 152.0      39\n",
              "\n",
              "[5 rows x 10 columns]"
            ]
          },
          "metadata": {
            "tags": []
          },
          "execution_count": 30
        }
      ]
    },
    {
      "cell_type": "code",
      "metadata": {
        "id": "fNuvwyws2Vyk",
        "colab": {
          "base_uri": "https://localhost:8080/"
        },
        "outputId": "1a4d9241-20d2-415c-b2a0-05f88938e3a9"
      },
      "source": [
        "# Categorical features declaration\n",
        "cat_features = [\"Gender\", \"Region_Code\", \"Previously_Insured\", \"Vehicle_Age\", \"Vehicle_Damage\", \"Policy_Sales_Channel\"]\n",
        "print(cat_features)"
      ],
      "execution_count": 31,
      "outputs": [
        {
          "output_type": "stream",
          "text": [
            "['Gender', 'Region_Code', 'Previously_Insured', 'Vehicle_Age', 'Vehicle_Damage', 'Policy_Sales_Channel']\n"
          ],
          "name": "stdout"
        }
      ]
    },
    {
      "cell_type": "code",
      "metadata": {
        "id": "dz_YKEyy2Vyn",
        "colab": {
          "base_uri": "https://localhost:8080/"
        },
        "outputId": "81c6d5ae-4cf6-4964-9f9b-012fe5310432"
      },
      "source": [
        "# convert to right data types\n",
        "print(X[cat_features].info())\n",
        "\n",
        "X_filled = X.copy()\n",
        "X_filled[\"Region_Code\"] = X[\"Region_Code\"].astype(np.int16)\n",
        "X_filled[\"Policy_Sales_Channel\"] = X[\"Policy_Sales_Channel\"].astype(np.int16)\n",
        "\n",
        "X_filled[cat_features].info()"
      ],
      "execution_count": 32,
      "outputs": [
        {
          "output_type": "stream",
          "text": [
            "<class 'pandas.core.frame.DataFrame'>\n",
            "RangeIndex: 381109 entries, 0 to 381108\n",
            "Data columns (total 6 columns):\n",
            " #   Column                Non-Null Count   Dtype  \n",
            "---  ------                --------------   -----  \n",
            " 0   Gender                381109 non-null  object \n",
            " 1   Region_Code           381109 non-null  float64\n",
            " 2   Previously_Insured    381109 non-null  int64  \n",
            " 3   Vehicle_Age           381109 non-null  object \n",
            " 4   Vehicle_Damage        381109 non-null  object \n",
            " 5   Policy_Sales_Channel  381109 non-null  float64\n",
            "dtypes: float64(2), int64(1), object(3)\n",
            "memory usage: 17.4+ MB\n",
            "None\n",
            "<class 'pandas.core.frame.DataFrame'>\n",
            "RangeIndex: 381109 entries, 0 to 381108\n",
            "Data columns (total 6 columns):\n",
            " #   Column                Non-Null Count   Dtype \n",
            "---  ------                --------------   ----- \n",
            " 0   Gender                381109 non-null  object\n",
            " 1   Region_Code           381109 non-null  int16 \n",
            " 2   Previously_Insured    381109 non-null  int64 \n",
            " 3   Vehicle_Age           381109 non-null  object\n",
            " 4   Vehicle_Damage        381109 non-null  object\n",
            " 5   Policy_Sales_Channel  381109 non-null  int16 \n",
            "dtypes: int16(2), int64(1), object(3)\n",
            "memory usage: 13.1+ MB\n"
          ],
          "name": "stdout"
        }
      ]
    },
    {
      "cell_type": "code",
      "metadata": {
        "id": "LNXtljc12Vys"
      },
      "source": [
        "# split into training and test sets, shuffle and stratify\n",
        "from sklearn.model_selection import train_test_split\n",
        "X_train, X_validation, y_train, y_validation = train_test_split(X_filled, y, train_size=0.8, random_state=SEED, shuffle=True, stratify=y)"
      ],
      "execution_count": 33,
      "outputs": []
    },
    {
      "cell_type": "code",
      "metadata": {
        "id": "vR4YsgZU2Vyw",
        "colab": {
          "base_uri": "https://localhost:8080/"
        },
        "outputId": "1f3ce4ca-ee0b-46ea-8053-62e25696bd76"
      },
      "source": [
        "model = CatBoostClassifier(\n",
        "    random_seed=SEED,    # make code reproducible\n",
        "    eval_metric='AUC',   # evaluation metric used in the competition, reference here: https://developers.google.com/machine-learning/crash-course/classification/roc-and-auc\n",
        "    task_type='GPU'      # use GPU to speed up training!\n",
        ")\n",
        "model.fit(\n",
        "    X_train, y_train,                       # input train features and target\n",
        "    cat_features=cat_features,              # input which variables to treat as categorical\n",
        "    use_best_model=True,                    # cache best model to use after training is finished\n",
        "    eval_set=(X_validation, y_validation),  # evaluate on valudation set\n",
        "    verbose=50                              # print progress every 50th iteration\n",
        ")\n",
        "print('Model is fitted: ' + str(model.is_fitted()))\n",
        "print('Model params:')\n",
        "print(model.get_params())"
      ],
      "execution_count": 34,
      "outputs": [
        {
          "output_type": "stream",
          "text": [
            "Learning rate set to 0.04379\n",
            "0:\tlearn: 0.7300705\ttest: 0.7350620\tbest: 0.7350620 (0)\ttotal: 55.9ms\tremaining: 55.8s\n",
            "50:\tlearn: 0.8473518\ttest: 0.8476181\tbest: 0.8476181 (50)\ttotal: 2.09s\tremaining: 38.9s\n",
            "100:\tlearn: 0.8541753\ttest: 0.8539259\tbest: 0.8539259 (100)\ttotal: 4.09s\tremaining: 36.4s\n",
            "150:\tlearn: 0.8565141\ttest: 0.8558266\tbest: 0.8558266 (150)\ttotal: 6.01s\tremaining: 33.8s\n",
            "200:\tlearn: 0.8576283\ttest: 0.8563952\tbest: 0.8563952 (200)\ttotal: 7.94s\tremaining: 31.6s\n",
            "250:\tlearn: 0.8584694\ttest: 0.8568907\tbest: 0.8568907 (250)\ttotal: 9.84s\tremaining: 29.4s\n",
            "300:\tlearn: 0.8591383\ttest: 0.8572520\tbest: 0.8572520 (300)\ttotal: 11.8s\tremaining: 27.3s\n",
            "350:\tlearn: 0.8596287\ttest: 0.8573664\tbest: 0.8573697 (349)\ttotal: 13.6s\tremaining: 25.2s\n",
            "400:\tlearn: 0.8601131\ttest: 0.8574828\tbest: 0.8574834 (397)\ttotal: 15.5s\tremaining: 23.1s\n",
            "450:\tlearn: 0.8605216\ttest: 0.8576151\tbest: 0.8576182 (449)\ttotal: 17.3s\tremaining: 21.1s\n",
            "500:\tlearn: 0.8608967\ttest: 0.8577058\tbest: 0.8577085 (498)\ttotal: 19.2s\tremaining: 19.2s\n",
            "550:\tlearn: 0.8612487\ttest: 0.8577447\tbest: 0.8577550 (546)\ttotal: 21.1s\tremaining: 17.2s\n",
            "600:\tlearn: 0.8615830\ttest: 0.8577949\tbest: 0.8578038 (595)\ttotal: 23s\tremaining: 15.2s\n",
            "650:\tlearn: 0.8618691\ttest: 0.8578118\tbest: 0.8578124 (609)\ttotal: 24.8s\tremaining: 13.3s\n",
            "700:\tlearn: 0.8622126\ttest: 0.8578691\tbest: 0.8578799 (691)\ttotal: 26.7s\tremaining: 11.4s\n",
            "750:\tlearn: 0.8625917\ttest: 0.8579514\tbest: 0.8579522 (749)\ttotal: 28.6s\tremaining: 9.47s\n",
            "800:\tlearn: 0.8628763\ttest: 0.8579737\tbest: 0.8579799 (775)\ttotal: 30.4s\tremaining: 7.55s\n",
            "850:\tlearn: 0.8630994\ttest: 0.8579803\tbest: 0.8579898 (834)\ttotal: 32.2s\tremaining: 5.65s\n",
            "900:\tlearn: 0.8633502\ttest: 0.8579678\tbest: 0.8580152 (864)\ttotal: 34.1s\tremaining: 3.75s\n",
            "950:\tlearn: 0.8635964\ttest: 0.8579413\tbest: 0.8580152 (864)\ttotal: 36s\tremaining: 1.85s\n",
            "999:\tlearn: 0.8638379\ttest: 0.8579124\tbest: 0.8580152 (864)\ttotal: 37.8s\tremaining: 0us\n",
            "bestTest = 0.8580151796\n",
            "bestIteration = 864\n",
            "Shrink model to first 865 iterations.\n",
            "Model is fitted: True\n",
            "Model params:\n",
            "{'task_type': 'GPU', 'eval_metric': 'AUC', 'random_seed': 2020}\n"
          ],
          "name": "stdout"
        }
      ]
    },
    {
      "cell_type": "markdown",
      "metadata": {
        "id": "Sp-iEu7e1oGi"
      },
      "source": [
        "Model did not improve the last ~150 iterations, which suggests it trained for about the right time, not to over- or underfit."
      ]
    },
    {
      "cell_type": "code",
      "metadata": {
        "id": "Ts0FdY4L2Vy0",
        "colab": {
          "base_uri": "https://localhost:8080/"
        },
        "outputId": "fa1d9a52-752b-413a-8294-39e016a300bf"
      },
      "source": [
        "# how many trees did we grow?\r\n",
        "print('Tree count: ' + str(model.tree_count_))"
      ],
      "execution_count": 36,
      "outputs": [
        {
          "output_type": "stream",
          "text": [
            "Tree count: 865\n"
          ],
          "name": "stdout"
        }
      ]
    },
    {
      "cell_type": "code",
      "metadata": {
        "id": "YXYs4whV2Vy2",
        "colab": {
          "base_uri": "https://localhost:8080/",
          "height": 359
        },
        "outputId": "dca16b9e-9229-4144-8d98-7c3c933b81e8"
      },
      "source": [
        "# which features were the most beneficial for the model? Helpful for feature engineering (not covered here).\r\n",
        "model.get_feature_importance(prettified=True)"
      ],
      "execution_count": 37,
      "outputs": [
        {
          "output_type": "execute_result",
          "data": {
            "text/html": [
              "<div>\n",
              "<style scoped>\n",
              "    .dataframe tbody tr th:only-of-type {\n",
              "        vertical-align: middle;\n",
              "    }\n",
              "\n",
              "    .dataframe tbody tr th {\n",
              "        vertical-align: top;\n",
              "    }\n",
              "\n",
              "    .dataframe thead th {\n",
              "        text-align: right;\n",
              "    }\n",
              "</style>\n",
              "<table border=\"1\" class=\"dataframe\">\n",
              "  <thead>\n",
              "    <tr style=\"text-align: right;\">\n",
              "      <th></th>\n",
              "      <th>Feature Id</th>\n",
              "      <th>Importances</th>\n",
              "    </tr>\n",
              "  </thead>\n",
              "  <tbody>\n",
              "    <tr>\n",
              "      <th>0</th>\n",
              "      <td>Previously_Insured</td>\n",
              "      <td>58.060342</td>\n",
              "    </tr>\n",
              "    <tr>\n",
              "      <th>1</th>\n",
              "      <td>Vehicle_Damage</td>\n",
              "      <td>19.048923</td>\n",
              "    </tr>\n",
              "    <tr>\n",
              "      <th>2</th>\n",
              "      <td>Policy_Sales_Channel</td>\n",
              "      <td>8.422820</td>\n",
              "    </tr>\n",
              "    <tr>\n",
              "      <th>3</th>\n",
              "      <td>Age</td>\n",
              "      <td>7.547913</td>\n",
              "    </tr>\n",
              "    <tr>\n",
              "      <th>4</th>\n",
              "      <td>Region_Code</td>\n",
              "      <td>3.859257</td>\n",
              "    </tr>\n",
              "    <tr>\n",
              "      <th>5</th>\n",
              "      <td>Vehicle_Age</td>\n",
              "      <td>2.327715</td>\n",
              "    </tr>\n",
              "    <tr>\n",
              "      <th>6</th>\n",
              "      <td>Annual_Premium</td>\n",
              "      <td>0.325198</td>\n",
              "    </tr>\n",
              "    <tr>\n",
              "      <th>7</th>\n",
              "      <td>Gender</td>\n",
              "      <td>0.218071</td>\n",
              "    </tr>\n",
              "    <tr>\n",
              "      <th>8</th>\n",
              "      <td>Driving_License</td>\n",
              "      <td>0.118190</td>\n",
              "    </tr>\n",
              "    <tr>\n",
              "      <th>9</th>\n",
              "      <td>Vintage</td>\n",
              "      <td>0.071571</td>\n",
              "    </tr>\n",
              "  </tbody>\n",
              "</table>\n",
              "</div>"
            ],
            "text/plain": [
              "             Feature Id  Importances\n",
              "0    Previously_Insured    58.060342\n",
              "1        Vehicle_Damage    19.048923\n",
              "2  Policy_Sales_Channel     8.422820\n",
              "3                   Age     7.547913\n",
              "4           Region_Code     3.859257\n",
              "5           Vehicle_Age     2.327715\n",
              "6        Annual_Premium     0.325198\n",
              "7                Gender     0.218071\n",
              "8       Driving_License     0.118190\n",
              "9               Vintage     0.071571"
            ]
          },
          "metadata": {
            "tags": []
          },
          "execution_count": 37
        }
      ]
    },
    {
      "cell_type": "code",
      "metadata": {
        "id": "BvwNvCib2Vy4",
        "colab": {
          "base_uri": "https://localhost:8080/",
          "height": 204
        },
        "outputId": "3546089e-a619-4d71-d6ef-d616a0e283ef"
      },
      "source": [
        "# prepare data for prediction\n",
        "X_test = test_df.drop(['id'], axis=1)\n",
        "X_test.head()"
      ],
      "execution_count": 38,
      "outputs": [
        {
          "output_type": "execute_result",
          "data": {
            "text/html": [
              "<div>\n",
              "<style scoped>\n",
              "    .dataframe tbody tr th:only-of-type {\n",
              "        vertical-align: middle;\n",
              "    }\n",
              "\n",
              "    .dataframe tbody tr th {\n",
              "        vertical-align: top;\n",
              "    }\n",
              "\n",
              "    .dataframe thead th {\n",
              "        text-align: right;\n",
              "    }\n",
              "</style>\n",
              "<table border=\"1\" class=\"dataframe\">\n",
              "  <thead>\n",
              "    <tr style=\"text-align: right;\">\n",
              "      <th></th>\n",
              "      <th>Gender</th>\n",
              "      <th>Age</th>\n",
              "      <th>Driving_License</th>\n",
              "      <th>Region_Code</th>\n",
              "      <th>Previously_Insured</th>\n",
              "      <th>Vehicle_Age</th>\n",
              "      <th>Vehicle_Damage</th>\n",
              "      <th>Annual_Premium</th>\n",
              "      <th>Policy_Sales_Channel</th>\n",
              "      <th>Vintage</th>\n",
              "    </tr>\n",
              "  </thead>\n",
              "  <tbody>\n",
              "    <tr>\n",
              "      <th>0</th>\n",
              "      <td>Male</td>\n",
              "      <td>25</td>\n",
              "      <td>1</td>\n",
              "      <td>11.0</td>\n",
              "      <td>1</td>\n",
              "      <td>&lt; 1 Year</td>\n",
              "      <td>No</td>\n",
              "      <td>35786.0</td>\n",
              "      <td>152.0</td>\n",
              "      <td>53</td>\n",
              "    </tr>\n",
              "    <tr>\n",
              "      <th>1</th>\n",
              "      <td>Male</td>\n",
              "      <td>40</td>\n",
              "      <td>1</td>\n",
              "      <td>28.0</td>\n",
              "      <td>0</td>\n",
              "      <td>1-2 Year</td>\n",
              "      <td>Yes</td>\n",
              "      <td>33762.0</td>\n",
              "      <td>7.0</td>\n",
              "      <td>111</td>\n",
              "    </tr>\n",
              "    <tr>\n",
              "      <th>2</th>\n",
              "      <td>Male</td>\n",
              "      <td>47</td>\n",
              "      <td>1</td>\n",
              "      <td>28.0</td>\n",
              "      <td>0</td>\n",
              "      <td>1-2 Year</td>\n",
              "      <td>Yes</td>\n",
              "      <td>40050.0</td>\n",
              "      <td>124.0</td>\n",
              "      <td>199</td>\n",
              "    </tr>\n",
              "    <tr>\n",
              "      <th>3</th>\n",
              "      <td>Male</td>\n",
              "      <td>24</td>\n",
              "      <td>1</td>\n",
              "      <td>27.0</td>\n",
              "      <td>1</td>\n",
              "      <td>&lt; 1 Year</td>\n",
              "      <td>Yes</td>\n",
              "      <td>37356.0</td>\n",
              "      <td>152.0</td>\n",
              "      <td>187</td>\n",
              "    </tr>\n",
              "    <tr>\n",
              "      <th>4</th>\n",
              "      <td>Male</td>\n",
              "      <td>27</td>\n",
              "      <td>1</td>\n",
              "      <td>28.0</td>\n",
              "      <td>1</td>\n",
              "      <td>&lt; 1 Year</td>\n",
              "      <td>No</td>\n",
              "      <td>59097.0</td>\n",
              "      <td>152.0</td>\n",
              "      <td>297</td>\n",
              "    </tr>\n",
              "  </tbody>\n",
              "</table>\n",
              "</div>"
            ],
            "text/plain": [
              "  Gender  Age  Driving_License  ...  Annual_Premium  Policy_Sales_Channel Vintage\n",
              "0   Male   25                1  ...         35786.0                 152.0      53\n",
              "1   Male   40                1  ...         33762.0                   7.0     111\n",
              "2   Male   47                1  ...         40050.0                 124.0     199\n",
              "3   Male   24                1  ...         37356.0                 152.0     187\n",
              "4   Male   27                1  ...         59097.0                 152.0     297\n",
              "\n",
              "[5 rows x 10 columns]"
            ]
          },
          "metadata": {
            "tags": []
          },
          "execution_count": 38
        }
      ]
    },
    {
      "cell_type": "code",
      "metadata": {
        "id": "VXnU4ZKv2Vy7",
        "colab": {
          "base_uri": "https://localhost:8080/"
        },
        "outputId": "edef0955-f290-480f-f3ed-3d42df51cc68"
      },
      "source": [
        "# convert to right data types in test dataframe\n",
        "print(X_test[cat_features].info())\n",
        "\n",
        "X_test_filled = X_test.copy()\n",
        "X_test_filled[\"Region_Code\"] = X_test[\"Region_Code\"].astype(np.int16)\n",
        "X_test_filled[\"Policy_Sales_Channel\"] = X_test[\"Policy_Sales_Channel\"].astype(np.int16)\n",
        "\n",
        "X_test_filled[cat_features].info()"
      ],
      "execution_count": 39,
      "outputs": [
        {
          "output_type": "stream",
          "text": [
            "<class 'pandas.core.frame.DataFrame'>\n",
            "RangeIndex: 127037 entries, 0 to 127036\n",
            "Data columns (total 6 columns):\n",
            " #   Column                Non-Null Count   Dtype  \n",
            "---  ------                --------------   -----  \n",
            " 0   Gender                127037 non-null  object \n",
            " 1   Region_Code           127037 non-null  float64\n",
            " 2   Previously_Insured    127037 non-null  int64  \n",
            " 3   Vehicle_Age           127037 non-null  object \n",
            " 4   Vehicle_Damage        127037 non-null  object \n",
            " 5   Policy_Sales_Channel  127037 non-null  float64\n",
            "dtypes: float64(2), int64(1), object(3)\n",
            "memory usage: 5.8+ MB\n",
            "None\n",
            "<class 'pandas.core.frame.DataFrame'>\n",
            "RangeIndex: 127037 entries, 0 to 127036\n",
            "Data columns (total 6 columns):\n",
            " #   Column                Non-Null Count   Dtype \n",
            "---  ------                --------------   ----- \n",
            " 0   Gender                127037 non-null  object\n",
            " 1   Region_Code           127037 non-null  int16 \n",
            " 2   Previously_Insured    127037 non-null  int64 \n",
            " 3   Vehicle_Age           127037 non-null  object\n",
            " 4   Vehicle_Damage        127037 non-null  object\n",
            " 5   Policy_Sales_Channel  127037 non-null  int16 \n",
            "dtypes: int16(2), int64(1), object(3)\n",
            "memory usage: 4.4+ MB\n"
          ],
          "name": "stdout"
        }
      ]
    },
    {
      "cell_type": "code",
      "metadata": {
        "id": "UI-TO2K62Vy_",
        "colab": {
          "base_uri": "https://localhost:8080/"
        },
        "outputId": "d79a64a6-6285-4bf0-cc36-323c442243c5"
      },
      "source": [
        "# use catboost Pool class to load the dataset, then predict probabilities of `Response` == 1\n",
        "test_pool = Pool(data=X_test_filled, cat_features=cat_features)\n",
        "contest_predictions = model.predict_proba(test_pool)[:,1]\n",
        "print('Predictions:')\n",
        "print(contest_predictions)"
      ],
      "execution_count": 41,
      "outputs": [
        {
          "output_type": "stream",
          "text": [
            "Predictions:\n",
            "[0.00099469 0.30234474 0.29278176 ... 0.0006389  0.00062148 0.00326372]\n"
          ],
          "name": "stdout"
        }
      ]
    },
    {
      "cell_type": "code",
      "metadata": {
        "id": "oo2gkmRe2VzD",
        "colab": {
          "base_uri": "https://localhost:8080/",
          "height": 204
        },
        "outputId": "3c00687e-5ccc-49eb-bac9-dbc9725028ed"
      },
      "source": [
        "# replace sample submission column\n",
        "submit_df[\"Response\"] = contest_predictions\n",
        "submit_df.head()"
      ],
      "execution_count": 42,
      "outputs": [
        {
          "output_type": "execute_result",
          "data": {
            "text/html": [
              "<div>\n",
              "<style scoped>\n",
              "    .dataframe tbody tr th:only-of-type {\n",
              "        vertical-align: middle;\n",
              "    }\n",
              "\n",
              "    .dataframe tbody tr th {\n",
              "        vertical-align: top;\n",
              "    }\n",
              "\n",
              "    .dataframe thead th {\n",
              "        text-align: right;\n",
              "    }\n",
              "</style>\n",
              "<table border=\"1\" class=\"dataframe\">\n",
              "  <thead>\n",
              "    <tr style=\"text-align: right;\">\n",
              "      <th></th>\n",
              "      <th>id</th>\n",
              "      <th>Response</th>\n",
              "    </tr>\n",
              "  </thead>\n",
              "  <tbody>\n",
              "    <tr>\n",
              "      <th>0</th>\n",
              "      <td>381110</td>\n",
              "      <td>0.000995</td>\n",
              "    </tr>\n",
              "    <tr>\n",
              "      <th>1</th>\n",
              "      <td>381111</td>\n",
              "      <td>0.302345</td>\n",
              "    </tr>\n",
              "    <tr>\n",
              "      <th>2</th>\n",
              "      <td>381112</td>\n",
              "      <td>0.292782</td>\n",
              "    </tr>\n",
              "    <tr>\n",
              "      <th>3</th>\n",
              "      <td>381113</td>\n",
              "      <td>0.005886</td>\n",
              "    </tr>\n",
              "    <tr>\n",
              "      <th>4</th>\n",
              "      <td>381114</td>\n",
              "      <td>0.000909</td>\n",
              "    </tr>\n",
              "  </tbody>\n",
              "</table>\n",
              "</div>"
            ],
            "text/plain": [
              "       id  Response\n",
              "0  381110  0.000995\n",
              "1  381111  0.302345\n",
              "2  381112  0.292782\n",
              "3  381113  0.005886\n",
              "4  381114  0.000909"
            ]
          },
          "metadata": {
            "tags": []
          },
          "execution_count": 42
        }
      ]
    },
    {
      "cell_type": "code",
      "metadata": {
        "id": "KhAF903T2VzG"
      },
      "source": [
        "# create a csv to submit to competition!\r\n",
        "submit_df.to_csv(\"Catboost_Baseline.csv\", index = False)"
      ],
      "execution_count": null,
      "outputs": []
    },
    {
      "cell_type": "code",
      "metadata": {
        "id": "soFynIcY2VzJ"
      },
      "source": [
        ""
      ],
      "execution_count": null,
      "outputs": []
    }
  ]
}